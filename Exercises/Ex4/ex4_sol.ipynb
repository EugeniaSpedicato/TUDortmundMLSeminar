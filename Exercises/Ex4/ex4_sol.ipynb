{
 "cells": [
  {
   "cell_type": "markdown",
   "metadata": {},
   "source": [
    "# Exercise 4 - Fully Connected Networks and the MNIST dataset\n",
    "This exercise is based on https://github.com/leriomaggio/deep-learning-keras-tensorflow\n",
    "\n"
   ]
  },
  {
   "cell_type": "markdown",
   "metadata": {},
   "source": [
    "# The MNIST database\n",
    "\n",
    "The MNIST (Modified National Institute of Standards and Technology) database ([link](http://yann.lecun.com/exdb/mnist)) has a database of handwritten digits. The dataset  consists of 28x28 grayscale images of the 10 digits.\n",
    "\n",
    "<img src='./mnist.png' style=\"height:400px; display:inline\">\n",
    "\n",
    "Since this dataset is **provided** with Keras, we just ask the `keras.dataset` model for training and test data.\n",
    "\n",
    "`from keras.datasets import mnist`<br>\n",
    "`(X_train, y_train), (X_test, y_test) = mnist.load_data()`\n",
    "\n",
    "The training set has $60,000$ samples. \n",
    "The test set has $10,000$ samples.\n",
    "The digits are size-normalized and centered in a fixed-size image. \n",
    "The data page has description on how the data was collected. It also has reports the benchmark of various algorithms on the test dataset. "
   ]
  },
  {
   "cell_type": "markdown",
   "metadata": {},
   "source": [
    "## Task 1: Data preparation \n",
    "* Download the data\n",
    "* Inspect the data and plot a few of the images using `matplotlib.pyplot.imshow` \n",
    "* Reshape the input data to be in vectorial form (original data are images)\n",
    "* Convert the input data to do dtype `float32` using `astype` in order to scale it afterwards\n",
    "* Normalize the design matrix to values between 0 and 1.\n",
    "* How many classes do you have? How much data of each class?\n",
    "* Convert the class vector to binary class matrices (**one-hot-vector**). Use the `to_categorical` function from `keras.utilis` to convert integer labels to **one-hot-vectors**.\n",
    "* Split the training set into training and validation data (30%)"
   ]
  },
  {
   "cell_type": "markdown",
   "metadata": {},
   "source": [
    "### Download the datasets and display first entry"
   ]
  },
  {
   "cell_type": "code",
   "execution_count": 1,
   "metadata": {},
   "outputs": [
    {
     "name": "stderr",
     "output_type": "stream",
     "text": [
      "Using TensorFlow backend.\n"
     ]
    },
    {
     "ename": "RuntimeError",
     "evalue": "module compiled against API version 0xc but this version of numpy is 0xb",
     "output_type": "error",
     "traceback": [
      "\u001b[0;31m---------------------------------------------------------------------------\u001b[0m",
      "\u001b[0;31mRuntimeError\u001b[0m                              Traceback (most recent call last)",
      "\u001b[0;31mRuntimeError\u001b[0m: module compiled against API version 0xc but this version of numpy is 0xb"
     ]
    },
    {
     "ename": "RuntimeError",
     "evalue": "module compiled against API version 0xc but this version of numpy is 0xb",
     "output_type": "error",
     "traceback": [
      "\u001b[0;31m---------------------------------------------------------------------------\u001b[0m",
      "\u001b[0;31mRuntimeError\u001b[0m                              Traceback (most recent call last)",
      "\u001b[0;31mRuntimeError\u001b[0m: module compiled against API version 0xc but this version of numpy is 0xb"
     ]
    }
   ],
   "source": [
    "from keras.datasets import mnist\n",
    "\n",
    "(X_train, y_train), (X_test, y_test) = mnist.load_data()"
   ]
  },
  {
   "cell_type": "code",
   "execution_count": 2,
   "metadata": {},
   "outputs": [
    {
     "data": {
      "text/plain": [
       "array([[  0,   0,   0,   0,   0,   0,   0,   0,   0,   0,   0,   0,   0,\n",
       "          0,   0,   0,   0,   0,   0,   0,   0,   0,   0,   0,   0,   0,\n",
       "          0,   0],\n",
       "       [  0,   0,   0,   0,   0,   0,   0,   0,   0,   0,   0,   0,   0,\n",
       "          0,   0,   0,   0,   0,   0,   0,   0,   0,   0,   0,   0,   0,\n",
       "          0,   0],\n",
       "       [  0,   0,   0,   0,   0,   0,   0,   0,   0,   0,   0,   0,   0,\n",
       "          0,   0,   0,   0,   0,   0,   0,   0,   0,   0,   0,   0,   0,\n",
       "          0,   0],\n",
       "       [  0,   0,   0,   0,   0,   0,   0,   0,   0,   0,   0,   0,   0,\n",
       "          0,   0,   0,   0,   0,   0,   0,   0,   0,   0,   0,   0,   0,\n",
       "          0,   0],\n",
       "       [  0,   0,   0,   0,   0,   0,   0,   0,   0,   0,   0,   0,   0,\n",
       "          0,   0,  51, 159, 253, 159,  50,   0,   0,   0,   0,   0,   0,\n",
       "          0,   0],\n",
       "       [  0,   0,   0,   0,   0,   0,   0,   0,   0,   0,   0,   0,   0,\n",
       "          0,  48, 238, 252, 252, 252, 237,   0,   0,   0,   0,   0,   0,\n",
       "          0,   0],\n",
       "       [  0,   0,   0,   0,   0,   0,   0,   0,   0,   0,   0,   0,   0,\n",
       "         54, 227, 253, 252, 239, 233, 252,  57,   6,   0,   0,   0,   0,\n",
       "          0,   0],\n",
       "       [  0,   0,   0,   0,   0,   0,   0,   0,   0,   0,   0,  10,  60,\n",
       "        224, 252, 253, 252, 202,  84, 252, 253, 122,   0,   0,   0,   0,\n",
       "          0,   0],\n",
       "       [  0,   0,   0,   0,   0,   0,   0,   0,   0,   0,   0, 163, 252,\n",
       "        252, 252, 253, 252, 252,  96, 189, 253, 167,   0,   0,   0,   0,\n",
       "          0,   0],\n",
       "       [  0,   0,   0,   0,   0,   0,   0,   0,   0,   0,  51, 238, 253,\n",
       "        253, 190, 114, 253, 228,  47,  79, 255, 168,   0,   0,   0,   0,\n",
       "          0,   0],\n",
       "       [  0,   0,   0,   0,   0,   0,   0,   0,   0,  48, 238, 252, 252,\n",
       "        179,  12,  75, 121,  21,   0,   0, 253, 243,  50,   0,   0,   0,\n",
       "          0,   0],\n",
       "       [  0,   0,   0,   0,   0,   0,   0,   0,  38, 165, 253, 233, 208,\n",
       "         84,   0,   0,   0,   0,   0,   0, 253, 252, 165,   0,   0,   0,\n",
       "          0,   0],\n",
       "       [  0,   0,   0,   0,   0,   0,   0,   7, 178, 252, 240,  71,  19,\n",
       "         28,   0,   0,   0,   0,   0,   0, 253, 252, 195,   0,   0,   0,\n",
       "          0,   0],\n",
       "       [  0,   0,   0,   0,   0,   0,   0,  57, 252, 252,  63,   0,   0,\n",
       "          0,   0,   0,   0,   0,   0,   0, 253, 252, 195,   0,   0,   0,\n",
       "          0,   0],\n",
       "       [  0,   0,   0,   0,   0,   0,   0, 198, 253, 190,   0,   0,   0,\n",
       "          0,   0,   0,   0,   0,   0,   0, 255, 253, 196,   0,   0,   0,\n",
       "          0,   0],\n",
       "       [  0,   0,   0,   0,   0,   0,  76, 246, 252, 112,   0,   0,   0,\n",
       "          0,   0,   0,   0,   0,   0,   0, 253, 252, 148,   0,   0,   0,\n",
       "          0,   0],\n",
       "       [  0,   0,   0,   0,   0,   0,  85, 252, 230,  25,   0,   0,   0,\n",
       "          0,   0,   0,   0,   0,   7, 135, 253, 186,  12,   0,   0,   0,\n",
       "          0,   0],\n",
       "       [  0,   0,   0,   0,   0,   0,  85, 252, 223,   0,   0,   0,   0,\n",
       "          0,   0,   0,   0,   7, 131, 252, 225,  71,   0,   0,   0,   0,\n",
       "          0,   0],\n",
       "       [  0,   0,   0,   0,   0,   0,  85, 252, 145,   0,   0,   0,   0,\n",
       "          0,   0,   0,  48, 165, 252, 173,   0,   0,   0,   0,   0,   0,\n",
       "          0,   0],\n",
       "       [  0,   0,   0,   0,   0,   0,  86, 253, 225,   0,   0,   0,   0,\n",
       "          0,   0, 114, 238, 253, 162,   0,   0,   0,   0,   0,   0,   0,\n",
       "          0,   0],\n",
       "       [  0,   0,   0,   0,   0,   0,  85, 252, 249, 146,  48,  29,  85,\n",
       "        178, 225, 253, 223, 167,  56,   0,   0,   0,   0,   0,   0,   0,\n",
       "          0,   0],\n",
       "       [  0,   0,   0,   0,   0,   0,  85, 252, 252, 252, 229, 215, 252,\n",
       "        252, 252, 196, 130,   0,   0,   0,   0,   0,   0,   0,   0,   0,\n",
       "          0,   0],\n",
       "       [  0,   0,   0,   0,   0,   0,  28, 199, 252, 252, 253, 252, 252,\n",
       "        233, 145,   0,   0,   0,   0,   0,   0,   0,   0,   0,   0,   0,\n",
       "          0,   0],\n",
       "       [  0,   0,   0,   0,   0,   0,   0,  25, 128, 252, 253, 252, 141,\n",
       "         37,   0,   0,   0,   0,   0,   0,   0,   0,   0,   0,   0,   0,\n",
       "          0,   0],\n",
       "       [  0,   0,   0,   0,   0,   0,   0,   0,   0,   0,   0,   0,   0,\n",
       "          0,   0,   0,   0,   0,   0,   0,   0,   0,   0,   0,   0,   0,\n",
       "          0,   0],\n",
       "       [  0,   0,   0,   0,   0,   0,   0,   0,   0,   0,   0,   0,   0,\n",
       "          0,   0,   0,   0,   0,   0,   0,   0,   0,   0,   0,   0,   0,\n",
       "          0,   0],\n",
       "       [  0,   0,   0,   0,   0,   0,   0,   0,   0,   0,   0,   0,   0,\n",
       "          0,   0,   0,   0,   0,   0,   0,   0,   0,   0,   0,   0,   0,\n",
       "          0,   0],\n",
       "       [  0,   0,   0,   0,   0,   0,   0,   0,   0,   0,   0,   0,   0,\n",
       "          0,   0,   0,   0,   0,   0,   0,   0,   0,   0,   0,   0,   0,\n",
       "          0,   0]], dtype=uint8)"
      ]
     },
     "execution_count": 2,
     "metadata": {},
     "output_type": "execute_result"
    }
   ],
   "source": [
    "X_train[1]"
   ]
  },
  {
   "cell_type": "code",
   "execution_count": 3,
   "metadata": {
    "scrolled": true
   },
   "outputs": [
    {
     "data": {
      "image/png": "[encoded data removed]",
      "text/plain": [
       "<matplotlib.figure.Figure at 0x7f92749e47d0>"
      ]
     },
     "metadata": {},
     "output_type": "display_data"
    }
   ],
   "source": [
    "%matplotlib inline\n",
    "import matplotlib.pyplot as plt\n",
    "import matplotlib.cm as cm\n",
    "\n",
    "fig = plt.figure()\n",
    "plt.imshow(X_train[1], cmap=cm.Greys)\n",
    "plt.show()"
   ]
  },
  {
   "cell_type": "code",
   "execution_count": 4,
   "metadata": {},
   "outputs": [
    {
     "data": {
      "image/png": "[encoded data removed]",
      "text/plain": [
       "<matplotlib.figure.Figure at 0x7f926ff43a50>"
      ]
     },
     "metadata": {},
     "output_type": "display_data"
    }
   ],
   "source": [
    "plt.figure(figsize=(12,10))\n",
    "x, y = 10, 4\n",
    "for i in range(40):  \n",
    "    plt.subplot(y, x, i+1)\n",
    "    plt.imshow(X_train[i], interpolation='nearest', cmap=cm.Greys)\n",
    "plt.show()"
   ]
  },
  {
   "cell_type": "markdown",
   "metadata": {},
   "source": [
    "### Reshape the datasets"
   ]
  },
  {
   "cell_type": "code",
   "execution_count": 5,
   "metadata": {},
   "outputs": [
    {
     "data": {
      "text/plain": [
       "(60000, 28, 28)"
      ]
     },
     "execution_count": 5,
     "metadata": {},
     "output_type": "execute_result"
    }
   ],
   "source": [
    "X_train.shape"
   ]
  },
  {
   "cell_type": "code",
   "execution_count": 6,
   "metadata": {
    "collapsed": true
   },
   "outputs": [],
   "source": [
    "X_train = X_train.reshape(60000, 784)\n",
    "X_test = X_test.reshape(10000, 784)"
   ]
  },
  {
   "cell_type": "code",
   "execution_count": 7,
   "metadata": {},
   "outputs": [
    {
     "data": {
      "text/plain": [
       "(60000, 784)"
      ]
     },
     "execution_count": 7,
     "metadata": {},
     "output_type": "execute_result"
    }
   ],
   "source": [
    "X_train.shape"
   ]
  },
  {
   "cell_type": "markdown",
   "metadata": {},
   "source": [
    "### Convert to float32 "
   ]
  },
  {
   "cell_type": "code",
   "execution_count": 8,
   "metadata": {},
   "outputs": [
    {
     "data": {
      "text/plain": [
       "dtype('uint8')"
      ]
     },
     "execution_count": 8,
     "metadata": {},
     "output_type": "execute_result"
    }
   ],
   "source": [
    "X_train.dtype"
   ]
  },
  {
   "cell_type": "code",
   "execution_count": 9,
   "metadata": {
    "collapsed": true
   },
   "outputs": [],
   "source": [
    "X_train = X_train.astype(\"float32\")\n",
    "X_test = X_test.astype(\"float32\")"
   ]
  },
  {
   "cell_type": "code",
   "execution_count": 10,
   "metadata": {
    "scrolled": true
   },
   "outputs": [
    {
     "data": {
      "text/plain": [
       "dtype('float32')"
      ]
     },
     "execution_count": 10,
     "metadata": {},
     "output_type": "execute_result"
    }
   ],
   "source": [
    "X_train.dtype"
   ]
  },
  {
   "cell_type": "markdown",
   "metadata": {},
   "source": [
    "### Scale the input data"
   ]
  },
  {
   "cell_type": "code",
   "execution_count": 11,
   "metadata": {
    "collapsed": true
   },
   "outputs": [],
   "source": [
    "from sklearn.preprocessing import MinMaxScaler\n",
    "scaler = MinMaxScaler(feature_range=(0, 1))\n",
    "\n",
    "X_train = scaler.fit_transform(X_train)\n",
    "X_test = scaler.transform(X_test)\n"
   ]
  },
  {
   "cell_type": "code",
   "execution_count": 12,
   "metadata": {},
   "outputs": [
    {
     "data": {
      "text/plain": [
       "array([ 0.        ,  0.        ,  0.        ,  0.        ,  0.        ,\n",
       "        0.        ,  0.        ,  0.        ,  0.        ,  0.        ,\n",
       "        0.        ,  0.        ,  0.        ,  0.        ,  0.        ,\n",
       "        0.        ,  0.        ,  0.        ,  0.        ,  0.        ,\n",
       "        0.        ,  0.        ,  0.        ,  0.        ,  0.        ,\n",
       "        0.        ,  0.        ,  0.        ,  0.        ,  0.        ,\n",
       "        0.        ,  0.        ,  0.        ,  0.        ,  0.        ,\n",
       "        0.        ,  0.        ,  0.        ,  0.        ,  0.        ,\n",
       "        0.        ,  0.        ,  0.        ,  0.        ,  0.        ,\n",
       "        0.        ,  0.        ,  0.        ,  0.        ,  0.        ,\n",
       "        0.        ,  0.        ,  0.        ,  0.        ,  0.        ,\n",
       "        0.        ,  0.        ,  0.        ,  0.        ,  0.        ,\n",
       "        0.        ,  0.        ,  0.        ,  0.        ,  0.        ,\n",
       "        0.        ,  0.        ,  0.        ,  0.        ,  0.        ,\n",
       "        0.        ,  0.        ,  0.        ,  0.        ,  0.        ,\n",
       "        0.        ,  0.        ,  0.        ,  0.        ,  0.        ,\n",
       "        0.        ,  0.        ,  0.        ,  0.        ,  0.        ,\n",
       "        0.        ,  0.        ,  0.        ,  0.        ,  0.        ,\n",
       "        0.        ,  0.        ,  0.        ,  0.        ,  0.        ,\n",
       "        0.        ,  0.        ,  0.        ,  0.        ,  0.        ,\n",
       "        0.        ,  0.        ,  0.        ,  0.        ,  0.        ,\n",
       "        0.        ,  0.        ,  0.        ,  0.        ,  0.        ,\n",
       "        0.        ,  0.        ,  0.        ,  0.        ,  0.        ,\n",
       "        0.        ,  0.        ,  0.        ,  0.        ,  0.        ,\n",
       "        0.        ,  0.        ,  0.        ,  0.        ,  0.        ,\n",
       "        0.        ,  0.        ,  0.20000002,  0.62352943,  0.99215692,\n",
       "        0.62352943,  0.19607845,  0.        ,  0.        ,  0.        ,\n",
       "        0.        ,  0.        ,  0.        ,  0.        ,  0.        ,\n",
       "        0.        ,  0.        ,  0.        ,  0.        ,  0.        ,\n",
       "        0.        ,  0.        ,  0.        ,  0.        ,  0.        ,\n",
       "        0.        ,  0.        ,  0.        ,  0.        ,  0.18823531,\n",
       "        0.9333334 ,  0.98823535,  0.98823535,  0.98823535,  0.92941183,\n",
       "        0.        ,  0.        ,  0.        ,  0.        ,  0.        ,\n",
       "        0.        ,  0.        ,  0.        ,  0.        ,  0.        ,\n",
       "        0.        ,  0.        ,  0.        ,  0.        ,  0.        ,\n",
       "        0.        ,  0.        ,  0.        ,  0.        ,  0.        ,\n",
       "        0.        ,  0.21176472,  0.89019614,  0.99215692,  0.98823535,\n",
       "        0.93725497,  0.91372555,  0.98823535,  0.22352943,  0.02352941,\n",
       "        0.        ,  0.        ,  0.        ,  0.        ,  0.        ,\n",
       "        0.        ,  0.        ,  0.        ,  0.        ,  0.        ,\n",
       "        0.        ,  0.        ,  0.        ,  0.        ,  0.        ,\n",
       "        0.        ,  0.        ,  0.03921569,  0.23529413,  0.87843144,\n",
       "        0.98823535,  0.99215692,  0.98823535,  0.79215693,  0.32941177,\n",
       "        0.98823535,  0.99215692,  0.4784314 ,  0.        ,  0.        ,\n",
       "        0.        ,  0.        ,  0.        ,  0.        ,  0.        ,\n",
       "        0.        ,  0.        ,  0.        ,  0.        ,  0.        ,\n",
       "        0.        ,  0.        ,  0.        ,  0.        ,  0.        ,\n",
       "        0.63921571,  0.98823535,  0.98823535,  0.98823535,  0.99215692,\n",
       "        0.98823535,  0.98823535,  0.37647063,  0.74117649,  0.99215692,\n",
       "        0.65490198,  0.        ,  0.        ,  0.        ,  0.        ,\n",
       "        0.        ,  0.        ,  0.        ,  0.        ,  0.        ,\n",
       "        0.        ,  0.        ,  0.        ,  0.        ,  0.        ,\n",
       "        0.        ,  0.        ,  0.20000002,  0.9333334 ,  0.99215692,\n",
       "        0.99215692,  0.74509805,  0.44705886,  0.99215692,  0.89411771,\n",
       "        0.18431373,  0.30980393,  1.        ,  0.65882355,  0.        ,\n",
       "        0.        ,  0.        ,  0.        ,  0.        ,  0.        ,\n",
       "        0.        ,  0.        ,  0.        ,  0.        ,  0.        ,\n",
       "        0.        ,  0.        ,  0.        ,  0.        ,  0.18823531,\n",
       "        0.9333334 ,  0.98823535,  0.98823535,  0.7019608 ,  0.04705883,\n",
       "        0.29411766,  0.47450984,  0.08235294,  0.        ,  0.        ,\n",
       "        0.99215692,  0.95294124,  0.19607845,  0.        ,  0.        ,\n",
       "        0.        ,  0.        ,  0.        ,  0.        ,  0.        ,\n",
       "        0.        ,  0.        ,  0.        ,  0.        ,  0.        ,\n",
       "        0.        ,  0.14901961,  0.64705884,  0.99215692,  0.91372555,\n",
       "        0.81568635,  0.32941177,  0.        ,  0.        ,  0.        ,\n",
       "        0.        ,  0.        ,  0.        ,  0.99215692,  0.98823535,\n",
       "        0.64705884,  0.        ,  0.        ,  0.        ,  0.        ,\n",
       "        0.        ,  0.        ,  0.        ,  0.        ,  0.        ,\n",
       "        0.        ,  0.        ,  0.        ,  0.02745098,  0.69803923,\n",
       "        0.98823535,  0.94117653,  0.27843139,  0.07450981,  0.10980393,\n",
       "        0.        ,  0.        ,  0.        ,  0.        ,  0.        ,\n",
       "        0.        ,  0.99215692,  0.98823535,  0.76470596,  0.        ,\n",
       "        0.        ,  0.        ,  0.        ,  0.        ,  0.        ,\n",
       "        0.        ,  0.        ,  0.        ,  0.        ,  0.        ,\n",
       "        0.        ,  0.22352943,  0.98823535,  0.98823535,  0.24705884,\n",
       "        0.        ,  0.        ,  0.        ,  0.        ,  0.        ,\n",
       "        0.        ,  0.        ,  0.        ,  0.        ,  0.99215692,\n",
       "        0.98823535,  0.76470596,  0.        ,  0.        ,  0.        ,\n",
       "        0.        ,  0.        ,  0.        ,  0.        ,  0.        ,\n",
       "        0.        ,  0.        ,  0.        ,  0.        ,  0.77647066,\n",
       "        0.99215692,  0.74509805,  0.        ,  0.        ,  0.        ,\n",
       "        0.        ,  0.        ,  0.        ,  0.        ,  0.        ,\n",
       "        0.        ,  0.        ,  1.        ,  0.99215692,  0.76862752,\n",
       "        0.        ,  0.        ,  0.        ,  0.        ,  0.        ,\n",
       "        0.        ,  0.        ,  0.        ,  0.        ,  0.        ,\n",
       "        0.        ,  0.29803923,  0.96470594,  0.98823535,  0.43921572,\n",
       "        0.        ,  0.        ,  0.        ,  0.        ,  0.        ,\n",
       "        0.        ,  0.        ,  0.        ,  0.        ,  0.        ,\n",
       "        0.99215692,  0.98823535,  0.58039218,  0.        ,  0.        ,\n",
       "        0.        ,  0.        ,  0.        ,  0.        ,  0.        ,\n",
       "        0.        ,  0.        ,  0.        ,  0.        ,  0.33333334,\n",
       "        0.98823535,  0.90196085,  0.09803922,  0.        ,  0.        ,\n",
       "        0.        ,  0.        ,  0.        ,  0.        ,  0.        ,\n",
       "        0.        ,  0.02745098,  0.52941179,  0.99215692,  0.72941178,\n",
       "        0.04705883,  0.        ,  0.        ,  0.        ,  0.        ,\n",
       "        0.        ,  0.        ,  0.        ,  0.        ,  0.        ,\n",
       "        0.        ,  0.        ,  0.33333334,  0.98823535,  0.87450987,\n",
       "        0.        ,  0.        ,  0.        ,  0.        ,  0.        ,\n",
       "        0.        ,  0.        ,  0.        ,  0.02745098,  0.51372552,\n",
       "        0.98823535,  0.88235301,  0.27843139,  0.        ,  0.        ,\n",
       "        0.        ,  0.        ,  0.        ,  0.        ,  0.        ,\n",
       "        0.        ,  0.        ,  0.        ,  0.        ,  0.        ,\n",
       "        0.33333334,  0.98823535,  0.56862748,  0.        ,  0.        ,\n",
       "        0.        ,  0.        ,  0.        ,  0.        ,  0.        ,\n",
       "        0.18823531,  0.64705884,  0.98823535,  0.67843139,  0.        ,\n",
       "        0.        ,  0.        ,  0.        ,  0.        ,  0.        ,\n",
       "        0.        ,  0.        ,  0.        ,  0.        ,  0.        ,\n",
       "        0.        ,  0.        ,  0.        ,  0.33725491,  0.99215692,\n",
       "        0.88235301,  0.        ,  0.        ,  0.        ,  0.        ,\n",
       "        0.        ,  0.        ,  0.44705886,  0.9333334 ,  0.99215692,\n",
       "        0.63529414,  0.        ,  0.        ,  0.        ,  0.        ,\n",
       "        0.        ,  0.        ,  0.        ,  0.        ,  0.        ,\n",
       "        0.        ,  0.        ,  0.        ,  0.        ,  0.        ,\n",
       "        0.        ,  0.33333334,  0.98823535,  0.97647065,  0.57254905,\n",
       "        0.18823531,  0.1137255 ,  0.33333334,  0.69803923,  0.88235301,\n",
       "        0.99215692,  0.87450987,  0.65490198,  0.21960786,  0.        ,\n",
       "        0.        ,  0.        ,  0.        ,  0.        ,  0.        ,\n",
       "        0.        ,  0.        ,  0.        ,  0.        ,  0.        ,\n",
       "        0.        ,  0.        ,  0.        ,  0.        ,  0.33333334,\n",
       "        0.98823535,  0.98823535,  0.98823535,  0.89803928,  0.84313732,\n",
       "        0.98823535,  0.98823535,  0.98823535,  0.76862752,  0.50980395,\n",
       "        0.        ,  0.        ,  0.        ,  0.        ,  0.        ,\n",
       "        0.        ,  0.        ,  0.        ,  0.        ,  0.        ,\n",
       "        0.        ,  0.        ,  0.        ,  0.        ,  0.        ,\n",
       "        0.        ,  0.        ,  0.10980393,  0.78039223,  0.98823535,\n",
       "        0.98823535,  0.99215692,  0.98823535,  0.98823535,  0.91372555,\n",
       "        0.56862748,  0.        ,  0.        ,  0.        ,  0.        ,\n",
       "        0.        ,  0.        ,  0.        ,  0.        ,  0.        ,\n",
       "        0.        ,  0.        ,  0.        ,  0.        ,  0.        ,\n",
       "        0.        ,  0.        ,  0.        ,  0.        ,  0.        ,\n",
       "        0.        ,  0.09803922,  0.50196081,  0.98823535,  0.99215692,\n",
       "        0.98823535,  0.5529412 ,  0.14509805,  0.        ,  0.        ,\n",
       "        0.        ,  0.        ,  0.        ,  0.        ,  0.        ,\n",
       "        0.        ,  0.        ,  0.        ,  0.        ,  0.        ,\n",
       "        0.        ,  0.        ,  0.        ,  0.        ,  0.        ,\n",
       "        0.        ,  0.        ,  0.        ,  0.        ,  0.        ,\n",
       "        0.        ,  0.        ,  0.        ,  0.        ,  0.        ,\n",
       "        0.        ,  0.        ,  0.        ,  0.        ,  0.        ,\n",
       "        0.        ,  0.        ,  0.        ,  0.        ,  0.        ,\n",
       "        0.        ,  0.        ,  0.        ,  0.        ,  0.        ,\n",
       "        0.        ,  0.        ,  0.        ,  0.        ,  0.        ,\n",
       "        0.        ,  0.        ,  0.        ,  0.        ,  0.        ,\n",
       "        0.        ,  0.        ,  0.        ,  0.        ,  0.        ,\n",
       "        0.        ,  0.        ,  0.        ,  0.        ,  0.        ,\n",
       "        0.        ,  0.        ,  0.        ,  0.        ,  0.        ,\n",
       "        0.        ,  0.        ,  0.        ,  0.        ,  0.        ,\n",
       "        0.        ,  0.        ,  0.        ,  0.        ,  0.        ,\n",
       "        0.        ,  0.        ,  0.        ,  0.        ,  0.        ,\n",
       "        0.        ,  0.        ,  0.        ,  0.        ,  0.        ,\n",
       "        0.        ,  0.        ,  0.        ,  0.        ,  0.        ,\n",
       "        0.        ,  0.        ,  0.        ,  0.        ,  0.        ,\n",
       "        0.        ,  0.        ,  0.        ,  0.        ,  0.        ,\n",
       "        0.        ,  0.        ,  0.        ,  0.        ,  0.        ,\n",
       "        0.        ,  0.        ,  0.        ,  0.        ,  0.        ,\n",
       "        0.        ,  0.        ,  0.        ,  0.        ,  0.        ,\n",
       "        0.        ,  0.        ,  0.        ,  0.        ,  0.        ,\n",
       "        0.        ,  0.        ,  0.        ,  0.        ], dtype=float32)"
      ]
     },
     "execution_count": 12,
     "metadata": {},
     "output_type": "execute_result"
    }
   ],
   "source": [
    "X_train[1]"
   ]
  },
  {
   "cell_type": "markdown",
   "metadata": {},
   "source": [
    "### Convert class vectors to binary class matrices"
   ]
  },
  {
   "cell_type": "code",
   "execution_count": 13,
   "metadata": {},
   "outputs": [
    {
     "data": {
      "text/plain": [
       "array([5, 0, 4, ..., 5, 6, 8], dtype=uint8)"
      ]
     },
     "execution_count": 13,
     "metadata": {},
     "output_type": "execute_result"
    }
   ],
   "source": [
    "y_train"
   ]
  },
  {
   "cell_type": "code",
   "execution_count": 14,
   "metadata": {},
   "outputs": [
    {
     "data": {
      "text/plain": [
       "<matplotlib.axes._subplots.AxesSubplot at 0x7f9267626b90>"
      ]
     },
     "execution_count": 14,
     "metadata": {},
     "output_type": "execute_result"
    },
    {
     "data": {
      "image/png": "[encoded data removed]",
      "text/plain": [
       "<matplotlib.figure.Figure at 0x7f92676262d0>"
      ]
     },
     "metadata": {},
     "output_type": "display_data"
    }
   ],
   "source": [
    "import seaborn as sns\n",
    "sns.countplot(y_train)"
   ]
  },
  {
   "cell_type": "code",
   "execution_count": 15,
   "metadata": {
    "collapsed": true
   },
   "outputs": [],
   "source": [
    "from keras.utils import np_utils\n",
    "\n",
    "Y_train = np_utils.to_categorical(y_train, 10)\n",
    "Y_test = np_utils.to_categorical(y_test, 10)"
   ]
  },
  {
   "cell_type": "code",
   "execution_count": 16,
   "metadata": {},
   "outputs": [
    {
     "data": {
      "text/plain": [
       "array([ 1.,  0.,  0.,  0.,  0.,  0.,  0.,  0.,  0.,  0.], dtype=float32)"
      ]
     },
     "execution_count": 16,
     "metadata": {},
     "output_type": "execute_result"
    }
   ],
   "source": [
    "Y_train[1]"
   ]
  },
  {
   "cell_type": "markdown",
   "metadata": {},
   "source": [
    "#### Split Training and Validation Data"
   ]
  },
  {
   "cell_type": "code",
   "execution_count": 17,
   "metadata": {
    "collapsed": true
   },
   "outputs": [],
   "source": [
    "from sklearn.model_selection import train_test_split\n",
    "\n",
    "X_train, X_val, Y_train, Y_val = train_test_split(X_train, Y_train, test_size=0.3, random_state=42, stratify=Y_train)"
   ]
  },
  {
   "cell_type": "code",
   "execution_count": 18,
   "metadata": {},
   "outputs": [
    {
     "data": {
      "text/plain": [
       "<matplotlib.image.AxesImage at 0x7f9267683190>"
      ]
     },
     "execution_count": 18,
     "metadata": {},
     "output_type": "execute_result"
    },
    {
     "data": {
      "image/png": "[encoded data removed]",
      "text/plain": [
       "<matplotlib.figure.Figure at 0x7f9267ee3850>"
      ]
     },
     "metadata": {},
     "output_type": "display_data"
    }
   ],
   "source": [
    "plt.imshow(X_train[1].reshape(28, 28), cmap=cm.Greys)"
   ]
  },
  {
   "cell_type": "code",
   "execution_count": 19,
   "metadata": {},
   "outputs": [
    {
     "name": "stdout",
     "output_type": "stream",
     "text": [
      "[0 1 2 3 4 5 6 7 8 9]\n",
      "[1 0 0 0 0 0 0 0 0 0]\n"
     ]
    }
   ],
   "source": [
    "import numpy as np\n",
    "print(np.asarray(range(10)))\n",
    "print(Y_train[1].astype('int'))"
   ]
  },
  {
   "cell_type": "code",
   "execution_count": 20,
   "metadata": {},
   "outputs": [
    {
     "data": {
      "text/plain": [
       "<matplotlib.image.AxesImage at 0x7f9268001490>"
      ]
     },
     "execution_count": 20,
     "metadata": {},
     "output_type": "execute_result"
    },
    {
     "data": {
      "image/png": "[encoded data removed]",
      "text/plain": [
       "<matplotlib.figure.Figure at 0x7f926766ebd0>"
      ]
     },
     "metadata": {},
     "output_type": "display_data"
    }
   ],
   "source": [
    "plt.imshow(X_val[0].reshape(28, 28), cmap=cm.Greys)"
   ]
  },
  {
   "cell_type": "code",
   "execution_count": 21,
   "metadata": {},
   "outputs": [
    {
     "name": "stdout",
     "output_type": "stream",
     "text": [
      "[0 1 2 3 4 5 6 7 8 9]\n",
      "[0 0 0 0 1 0 0 0 0 0]\n"
     ]
    }
   ],
   "source": [
    "print(np.asarray(range(10)))\n",
    "print(Y_val[0].astype('int'))"
   ]
  },
  {
   "cell_type": "markdown",
   "metadata": {},
   "source": [
    "## Task 2: Build and train a neural network\n",
    "* Design a dense neural network structure. \n",
    "* Choose `softmax` as activation for the output node (normalized multi-class probability)\n",
    "* Use `categorical_crossentropy` as loss function (multi-class version of crossentropy)\n",
    "* Use `adam` as optimizer and a batch size of 512 (speed things up)\n",
    "* Train the NN over 50 epochs and plot the evolution of the training and validation loss as well as of one meaningful metric. What do you observe?\n",
    "* Evaluate the performance on the test set using `sklearn.metrics`\n",
    "* Plot the probability of being a *Zero* for true zeros and for all other numbers"
   ]
  },
  {
   "cell_type": "markdown",
   "metadata": {},
   "source": [
    "## Training"
   ]
  },
  {
   "cell_type": "code",
   "execution_count": 22,
   "metadata": {},
   "outputs": [
    {
     "name": "stdout",
     "output_type": "stream",
     "text": [
      "_________________________________________________________________\n",
      "Layer (type)                 Output Shape              Param #   \n",
      "=================================================================\n",
      "dense_1 (Dense)              (None, 512)               401920    \n",
      "_________________________________________________________________\n",
      "dense_2 (Dense)              (None, 256)               131328    \n",
      "_________________________________________________________________\n",
      "dense_3 (Dense)              (None, 10)                2570      \n",
      "=================================================================\n",
      "Total params: 535,818\n",
      "Trainable params: 535,818\n",
      "Non-trainable params: 0\n",
      "_________________________________________________________________\n"
     ]
    }
   ],
   "source": [
    "from keras.models import Sequential\n",
    "from keras.layers.core import Dense\n",
    "\n",
    "model = Sequential()\n",
    "model.add(Dense(512, activation='relu', input_dim=784))\n",
    "model.add(Dense(256, activation='relu'))\n",
    "model.add(Dense(10, activation='softmax'))\n",
    "\n",
    "model.compile(loss='categorical_crossentropy', optimizer='adam', metrics=['accuracy'])\n",
    "\n",
    "model.summary()"
   ]
  },
  {
   "cell_type": "code",
   "execution_count": 23,
   "metadata": {
    "scrolled": true
   },
   "outputs": [
    {
     "name": "stdout",
     "output_type": "stream",
     "text": [
      "Train on 42000 samples, validate on 18000 samples\n",
      "Epoch 1/50\n",
      "42000/42000 [==============================] - 2s 51us/step - loss: 0.4453 - acc: 0.8770 - val_loss: 0.2446 - val_acc: 0.9281\n",
      "Epoch 2/50\n",
      "42000/42000 [==============================] - 2s 46us/step - loss: 0.1658 - acc: 0.9520 - val_loss: 0.1724 - val_acc: 0.9479\n",
      "Epoch 3/50\n",
      "42000/42000 [==============================] - 2s 45us/step - loss: 0.1154 - acc: 0.9663 - val_loss: 0.1198 - val_acc: 0.9628\n",
      "Epoch 4/50\n",
      "42000/42000 [==============================] - 2s 46us/step - loss: 0.0904 - acc: 0.9739 - val_loss: 0.0990 - val_acc: 0.9701\n",
      "Epoch 5/50\n",
      "42000/42000 [==============================] - 2s 51us/step - loss: 0.0624 - acc: 0.9822 - val_loss: 0.0914 - val_acc: 0.9723\n",
      "Epoch 6/50\n",
      "42000/42000 [==============================] - 2s 53us/step - loss: 0.0526 - acc: 0.9845 - val_loss: 0.0830 - val_acc: 0.9748\n",
      "Epoch 7/50\n",
      "42000/42000 [==============================] - 2s 47us/step - loss: 0.0333 - acc: 0.9914 - val_loss: 0.0901 - val_acc: 0.9715\n",
      "Epoch 8/50\n",
      "42000/42000 [==============================] - 2s 51us/step - loss: 0.0315 - acc: 0.9909 - val_loss: 0.0778 - val_acc: 0.9761\n",
      "Epoch 9/50\n",
      "42000/42000 [==============================] - 2s 55us/step - loss: 0.0193 - acc: 0.9956 - val_loss: 0.1045 - val_acc: 0.9681\n",
      "Epoch 10/50\n",
      "42000/42000 [==============================] - 2s 50us/step - loss: 0.0311 - acc: 0.9910 - val_loss: 0.0765 - val_acc: 0.9782\n",
      "Epoch 11/50\n",
      "42000/42000 [==============================] - 2s 50us/step - loss: 0.0112 - acc: 0.9977 - val_loss: 0.0818 - val_acc: 0.9768\n",
      "Epoch 12/50\n",
      "42000/42000 [==============================] - 2s 54us/step - loss: 0.0087 - acc: 0.9987 - val_loss: 0.0776 - val_acc: 0.9785\n",
      "Epoch 13/50\n",
      "42000/42000 [==============================] - 2s 51us/step - loss: 0.0067 - acc: 0.9991 - val_loss: 0.0819 - val_acc: 0.9786\n",
      "Epoch 14/50\n",
      "42000/42000 [==============================] - 2s 47us/step - loss: 0.0063 - acc: 0.9989 - val_loss: 0.0796 - val_acc: 0.9789\n",
      "Epoch 15/50\n",
      "42000/42000 [==============================] - 2s 54us/step - loss: 0.0036 - acc: 0.9997 - val_loss: 0.0806 - val_acc: 0.9794\n",
      "Epoch 16/50\n",
      "42000/42000 [==============================] - 2s 56us/step - loss: 0.0025 - acc: 0.9999 - val_loss: 0.0806 - val_acc: 0.9799\n",
      "Epoch 17/50\n",
      "42000/42000 [==============================] - 3s 69us/step - loss: 0.0019 - acc: 1.0000 - val_loss: 0.0845 - val_acc: 0.9795\n",
      "Epoch 18/50\n",
      "42000/42000 [==============================] - 3s 71us/step - loss: 0.0035 - acc: 0.9995 - val_loss: 0.0822 - val_acc: 0.9800\n",
      "Epoch 19/50\n",
      "42000/42000 [==============================] - 3s 65us/step - loss: 0.0014 - acc: 1.0000 - val_loss: 0.0848 - val_acc: 0.9799\n",
      "Epoch 20/50\n",
      "42000/42000 [==============================] - 3s 62us/step - loss: 0.0011 - acc: 1.0000 - val_loss: 0.0848 - val_acc: 0.9797\n",
      "Epoch 21/50\n",
      "42000/42000 [==============================] - 3s 63us/step - loss: 8.6685e-04 - acc: 1.0000 - val_loss: 0.0861 - val_acc: 0.9799\n",
      "Epoch 22/50\n",
      "42000/42000 [==============================] - 3s 70us/step - loss: 7.5952e-04 - acc: 1.0000 - val_loss: 0.0873 - val_acc: 0.9798\n",
      "Epoch 23/50\n",
      "42000/42000 [==============================] - 3s 68us/step - loss: 6.5437e-04 - acc: 1.0000 - val_loss: 0.0870 - val_acc: 0.9801\n",
      "Epoch 24/50\n",
      "42000/42000 [==============================] - 3s 61us/step - loss: 5.7938e-04 - acc: 1.0000 - val_loss: 0.0880 - val_acc: 0.9797\n",
      "Epoch 25/50\n",
      "42000/42000 [==============================] - 3s 61us/step - loss: 5.1534e-04 - acc: 1.0000 - val_loss: 0.0888 - val_acc: 0.9794\n",
      "Epoch 26/50\n",
      "42000/42000 [==============================] - 3s 62us/step - loss: 4.5829e-04 - acc: 1.0000 - val_loss: 0.0895 - val_acc: 0.9797\n",
      "Epoch 27/50\n",
      "42000/42000 [==============================] - 3s 69us/step - loss: 4.2828e-04 - acc: 1.0000 - val_loss: 0.0909 - val_acc: 0.9794\n",
      "Epoch 28/50\n",
      "42000/42000 [==============================] - 3s 69us/step - loss: 3.7491e-04 - acc: 1.0000 - val_loss: 0.0912 - val_acc: 0.9796\n",
      "Epoch 29/50\n",
      "42000/42000 [==============================] - 3s 63us/step - loss: 3.3716e-04 - acc: 1.0000 - val_loss: 0.0918 - val_acc: 0.9799\n",
      "Epoch 30/50\n",
      "42000/42000 [==============================] - 3s 61us/step - loss: 3.2185e-04 - acc: 1.0000 - val_loss: 0.0918 - val_acc: 0.9802\n",
      "Epoch 31/50\n",
      "42000/42000 [==============================] - 3s 63us/step - loss: 2.8666e-04 - acc: 1.0000 - val_loss: 0.0938 - val_acc: 0.9801\n",
      "Epoch 32/50\n",
      "42000/42000 [==============================] - 3s 69us/step - loss: 2.5433e-04 - acc: 1.0000 - val_loss: 0.0933 - val_acc: 0.9802\n",
      "Epoch 33/50\n",
      "42000/42000 [==============================] - 3s 70us/step - loss: 2.3013e-04 - acc: 1.0000 - val_loss: 0.0940 - val_acc: 0.9800\n",
      "Epoch 34/50\n",
      "42000/42000 [==============================] - 3s 66us/step - loss: 2.1619e-04 - acc: 1.0000 - val_loss: 0.0945 - val_acc: 0.9802\n",
      "Epoch 35/50\n",
      "42000/42000 [==============================] - 3s 70us/step - loss: 1.9521e-04 - acc: 1.0000 - val_loss: 0.0959 - val_acc: 0.9804\n",
      "Epoch 36/50\n",
      "42000/42000 [==============================] - 3s 69us/step - loss: 1.9155e-04 - acc: 1.0000 - val_loss: 0.0957 - val_acc: 0.9802\n",
      "Epoch 37/50\n",
      "42000/42000 [==============================] - 3s 63us/step - loss: 1.6839e-04 - acc: 1.0000 - val_loss: 0.0964 - val_acc: 0.9798\n",
      "Epoch 38/50\n",
      "42000/42000 [==============================] - 3s 70us/step - loss: 1.5757e-04 - acc: 1.0000 - val_loss: 0.0963 - val_acc: 0.9802\n",
      "Epoch 39/50\n",
      "42000/42000 [==============================] - 3s 64us/step - loss: 1.4156e-04 - acc: 1.0000 - val_loss: 0.0976 - val_acc: 0.9802\n",
      "Epoch 40/50\n",
      "42000/42000 [==============================] - 3s 62us/step - loss: 1.3266e-04 - acc: 1.0000 - val_loss: 0.0979 - val_acc: 0.9800\n",
      "Epoch 41/50\n",
      "42000/42000 [==============================] - 3s 66us/step - loss: 1.2259e-04 - acc: 1.0000 - val_loss: 0.0987 - val_acc: 0.9801\n",
      "Epoch 42/50\n",
      "42000/42000 [==============================] - 4s 106us/step - loss: 1.1526e-04 - acc: 1.0000 - val_loss: 0.0991 - val_acc: 0.9802\n",
      "Epoch 43/50\n",
      "42000/42000 [==============================] - 3s 81us/step - loss: 1.0959e-04 - acc: 1.0000 - val_loss: 0.0993 - val_acc: 0.9802\n",
      "Epoch 44/50\n",
      "42000/42000 [==============================] - 3s 70us/step - loss: 1.0430e-04 - acc: 1.0000 - val_loss: 0.0995 - val_acc: 0.9802\n",
      "Epoch 45/50\n",
      "42000/42000 [==============================] - 3s 71us/step - loss: 9.2346e-05 - acc: 1.0000 - val_loss: 0.1004 - val_acc: 0.9799\n",
      "Epoch 46/50\n",
      "42000/42000 [==============================] - 3s 63us/step - loss: 8.4654e-05 - acc: 1.0000 - val_loss: 0.1012 - val_acc: 0.9800\n",
      "Epoch 47/50\n",
      "42000/42000 [==============================] - 3s 66us/step - loss: 8.2624e-05 - acc: 1.0000 - val_loss: 0.1017 - val_acc: 0.9803\n",
      "Epoch 48/50\n",
      "42000/42000 [==============================] - 3s 67us/step - loss: 7.4904e-05 - acc: 1.0000 - val_loss: 0.1020 - val_acc: 0.9801\n",
      "Epoch 49/50\n",
      "42000/42000 [==============================] - 3s 61us/step - loss: 7.1072e-05 - acc: 1.0000 - val_loss: 0.1024 - val_acc: 0.9803\n",
      "Epoch 50/50\n",
      "42000/42000 [==============================] - 3s 70us/step - loss: 6.5492e-05 - acc: 1.0000 - val_loss: 0.1030 - val_acc: 0.9801\n"
     ]
    }
   ],
   "source": [
    "history = model.fit(X_train, Y_train, batch_size=512, epochs=50, verbose=1, validation_data=(X_val, Y_val))"
   ]
  },
  {
   "cell_type": "markdown",
   "metadata": {},
   "source": [
    "### Plotting the network history\n",
    "As seen before, the return value of the `fit` function is a `keras.callbacks.History` object which contains the entire history of training/validation loss and defined metric (accuracy) for each epoch. Let's define a function to plot the history:"
   ]
  },
  {
   "cell_type": "code",
   "execution_count": 24,
   "metadata": {
    "collapsed": true
   },
   "outputs": [],
   "source": [
    "def plot_history(network_history):\n",
    "    plt.figure()\n",
    "    plt.xlabel('Epochs')\n",
    "    plt.ylabel('Loss')\n",
    "    plt.plot(network_history.history['loss'])\n",
    "    plt.plot(network_history.history['val_loss'])\n",
    "    plt.legend(['Training', 'Validation'])\n",
    "\n",
    "    plt.figure()\n",
    "    plt.xlabel('Epochs')\n",
    "    plt.ylabel('Accuracy')\n",
    "    plt.plot(network_history.history['acc'])\n",
    "    plt.plot(network_history.history['val_acc'])\n",
    "    plt.legend(['Training', 'Validation'], loc='lower right')\n",
    "    plt.show()"
   ]
  },
  {
   "cell_type": "code",
   "execution_count": 25,
   "metadata": {
    "scrolled": false
   },
   "outputs": [
    {
     "data": {
      "image/png": "[encoded data removed]",
      "text/plain": [
       "<matplotlib.figure.Figure at 0x7f9267a160d0>"
      ]
     },
     "metadata": {},
     "output_type": "display_data"
    },
    {
     "data": {
      "image/png": "[encoded data removed]",
      "text/plain": [
       "<matplotlib.figure.Figure at 0x7f92679f4f50>"
      ]
     },
     "metadata": {},
     "output_type": "display_data"
    }
   ],
   "source": [
    "plot_history(history)"
   ]
  },
  {
   "cell_type": "markdown",
   "metadata": {},
   "source": [
    "## Evaluation"
   ]
  },
  {
   "cell_type": "code",
   "execution_count": 26,
   "metadata": {},
   "outputs": [
    {
     "name": "stdout",
     "output_type": "stream",
     "text": [
      "10000/10000 [==============================] - 0s 28us/step\n",
      "[0.09768963857802318, 0.98050000000000004]\n"
     ]
    }
   ],
   "source": [
    "loss_and_metrics = model.evaluate(X_test, Y_test, batch_size=256)\n",
    "print loss_and_metrics"
   ]
  },
  {
   "cell_type": "code",
   "execution_count": 27,
   "metadata": {
    "collapsed": true
   },
   "outputs": [],
   "source": [
    "# Predict the values from the test dataset\n",
    "Y_pred = model.predict(X_test)\n",
    "# Convert predictions classes to one hot vectors \n",
    "Y_cls = np.argmax(Y_pred, axis = 1) \n",
    "# Convert validation observations to one hot vectors\n",
    "Y_true = np.argmax(Y_test, axis = 1) \n"
   ]
  },
  {
   "cell_type": "code",
   "execution_count": 28,
   "metadata": {
    "scrolled": true
   },
   "outputs": [
    {
     "name": "stdout",
     "output_type": "stream",
     "text": [
      "Classification Report:\n",
      "             precision    recall  f1-score   support\n",
      "\n",
      "          0       0.98      0.99      0.99       980\n",
      "          1       0.99      0.99      0.99      1135\n",
      "          2       0.97      0.98      0.97      1032\n",
      "          3       0.98      0.98      0.98      1010\n",
      "          4       0.98      0.98      0.98       982\n",
      "          5       0.98      0.98      0.98       892\n",
      "          6       0.99      0.98      0.98       958\n",
      "          7       0.98      0.98      0.98      1028\n",
      "          8       0.98      0.97      0.97       974\n",
      "          9       0.98      0.98      0.98      1009\n",
      "\n",
      "avg / total       0.98      0.98      0.98     10000\n",
      "\n"
     ]
    }
   ],
   "source": [
    "from sklearn.metrics import classification_report\n",
    "print 'Classification Report:\\n', classification_report(Y_true,Y_cls)"
   ]
  },
  {
   "cell_type": "markdown",
   "metadata": {},
   "source": [
    "### Plotting the normalized probability prob_i = p_i / sum(p_i)"
   ]
  },
  {
   "cell_type": "markdown",
   "metadata": {},
   "source": [
    "In multi-class problems the interpretation of the n-dimensional output is not always trivial, in particular if an output activation function is used which can not be interpreted as a probability. If one is only interested in distinguishing two of the classes one could build the ratio of these two class responses in order to get the best discrimination. Similarly, one could weight different classes according their importance for the specific problem. Because we have used a softmax activation together with the categorical cross-entropy we can directly interpret our output as probabilities and don't need to normalize it. If that is not the case you can define a multi-class probability for instance in the following way: "
   ]
  },
  {
   "cell_type": "code",
   "execution_count": 29,
   "metadata": {
    "collapsed": true
   },
   "outputs": [],
   "source": [
    "def prob_multiclass(Y_pred, index):\n",
    "    n_cls = len(Y_pred[0])\n",
    "\n",
    "    Y_prob=[]\n",
    "    for i in range(len(Y_pred)):\n",
    "        numerator=Y_pred[i,index]\n",
    "        denominator=0.0\n",
    "        for idx in range(n_cls):\n",
    "            denominator+=Y_pred[i,idx]\n",
    "        \n",
    "        Y_prob.append(numerator/denominator)\n",
    "        \n",
    "    return np.asarray(Y_prob)"
   ]
  },
  {
   "cell_type": "code",
   "execution_count": 30,
   "metadata": {},
   "outputs": [
    {
     "data": {
      "image/png": "[encoded data removed]",
      "text/plain": [
       "<matplotlib.figure.Figure at 0x7f9267dda110>"
      ]
     },
     "metadata": {},
     "output_type": "display_data"
    }
   ],
   "source": [
    "label=0\n",
    "Y_pred_prob = prob_multiclass(Y_pred, label)\n",
    "plt.hist(Y_pred_prob[Y_true == label], alpha=0.5, color='red', bins=10, log = True)\n",
    "plt.hist(Y_pred_prob[Y_true != label], alpha=0.5, color='blue', bins=10, log = True)\n",
    "plt.legend(['digit == 0', 'digit != 0'], loc='upper right')\n",
    "plt.xlabel('Probability of being 0')\n",
    "plt.ylabel('Number of entries')\n",
    "plt.show()"
   ]
  },
  {
   "cell_type": "markdown",
   "metadata": {},
   "source": [
    "### Plot the confusion matrix"
   ]
  },
  {
   "cell_type": "markdown",
   "metadata": {},
   "source": [
    "A good way to show the performance of a multi-class output is the confusion matrix: http://scikit-learn.org/stable/auto_examples/model_selection/plot_confusion_matrix.html"
   ]
  },
  {
   "cell_type": "code",
   "execution_count": 31,
   "metadata": {
    "collapsed": true
   },
   "outputs": [],
   "source": [
    "#Note, this code is taken straight from the SKLEARN website, an nice way of viewing confusion matrix.\n",
    "import itertools\n",
    "def plot_confusion_matrix(cm, classes,\n",
    "                          normalize=False,\n",
    "                          title='Confusion matrix',\n",
    "                          cmap=plt.cm.Blues):\n",
    "    \"\"\"\n",
    "    This function prints and plots the confusion matrix.\n",
    "    Normalization can be applied by setting `normalize=True`.\n",
    "    \"\"\"\n",
    "    plt.imshow(cm, interpolation='nearest', cmap=cmap)\n",
    "    plt.title(title)\n",
    "    plt.colorbar()\n",
    "    tick_marks = np.arange(len(classes))\n",
    "    plt.xticks(tick_marks, classes, rotation=45)\n",
    "    plt.yticks(tick_marks, classes)\n",
    "\n",
    "    if normalize:\n",
    "        cm = cm.astype('float') / cm.sum(axis=1)[:, np.newaxis]\n",
    "\n",
    "    thresh = cm.max() / 2.\n",
    "    for i, j in itertools.product(range(cm.shape[0]), range(cm.shape[1])):\n",
    "        plt.text(j, i, cm[i, j],\n",
    "                 horizontalalignment=\"center\",\n",
    "                 color=\"white\" if cm[i, j] > thresh else \"black\")\n",
    "\n",
    "    plt.tight_layout()\n",
    "    plt.ylabel('True label')\n",
    "    plt.xlabel('Predicted label')"
   ]
  },
  {
   "cell_type": "code",
   "execution_count": 32,
   "metadata": {
    "scrolled": false
   },
   "outputs": [
    {
     "data": {
      "image/png": "[encoded data removed]",
      "text/plain": [
       "<matplotlib.figure.Figure at 0x7f9267ddf050>"
      ]
     },
     "metadata": {},
     "output_type": "display_data"
    }
   ],
   "source": [
    "from sklearn.metrics import confusion_matrix\n",
    "# compute the confusion matrix\n",
    "confusion_mtx = confusion_matrix(Y_true, Y_cls) \n",
    "# plot the confusion matrix\n",
    "plt.figure(figsize=(8,8))\n",
    "plot_confusion_matrix(confusion_mtx, classes = range(10))"
   ]
  },
  {
   "cell_type": "markdown",
   "metadata": {},
   "source": [
    "### Plot wrong associations"
   ]
  },
  {
   "cell_type": "markdown",
   "metadata": {},
   "source": [
    " Errors are difference between predicted labels and true labels"
   ]
  },
  {
   "cell_type": "code",
   "execution_count": 33,
   "metadata": {
    "collapsed": true
   },
   "outputs": [],
   "source": [
    "errors = (Y_cls - Y_true != 0)\n",
    "\n",
    "Y_cls_errors = Y_cls[errors]\n",
    "Y_pred_errors = Y_pred[errors]\n",
    "Y_true_errors = Y_true[errors]\n",
    "X_test_errors = X_test[errors]"
   ]
  },
  {
   "cell_type": "markdown",
   "metadata": {},
   "source": [
    "Define plotting function"
   ]
  },
  {
   "cell_type": "code",
   "execution_count": 34,
   "metadata": {
    "collapsed": true
   },
   "outputs": [],
   "source": [
    "def display_errors(errors_index,img_errors,pred_errors, obs_errors):\n",
    "    \"\"\" This function shows 6 images with their predicted and real labels\"\"\"\n",
    "    n = 0\n",
    "    nrows = 2\n",
    "    ncols = 3\n",
    "    fig, ax = plt.subplots(nrows,ncols,sharex=True,sharey=True)\n",
    "    for row in range(nrows):\n",
    "        for col in range(ncols):\n",
    "            error = errors_index[n]\n",
    "            ax[row,col].imshow((img_errors[error]).reshape((28,28)), cmap=cm.Greys, interpolation='nearest')\n",
    "            ax[row,col].set_title(\"Predicted label :{}\\nTrue label :{}\".format(pred_errors[error],obs_errors[error]))\n",
    "            n += 1\n"
   ]
  },
  {
   "cell_type": "markdown",
   "metadata": {},
   "source": [
    "Rank errors by difference in probability"
   ]
  },
  {
   "cell_type": "code",
   "execution_count": 35,
   "metadata": {
    "collapsed": true
   },
   "outputs": [],
   "source": [
    "# Probabilities of the wrong predicted numbers\n",
    "Y_pred_errors_prob = np.max(Y_pred_errors,axis = 1)\n",
    "\n",
    "# Predicted probabilities of the true values in the error set\n",
    "true_prob_errors = np.diagonal(np.take(Y_pred_errors, Y_true_errors, axis=1))\n",
    "\n",
    "# Difference between the probability of the predicted label and the true label\n",
    "delta_pred_true_errors = Y_pred_errors_prob - true_prob_errors\n",
    "\n",
    "# Sorted list of the delta prob errors\n",
    "sorted_dela_errors = np.argsort(delta_pred_true_errors)\n",
    "\n",
    "# Top 6 errors \n",
    "most_important_errors = sorted_dela_errors[-6:]\n"
   ]
  },
  {
   "cell_type": "code",
   "execution_count": 36,
   "metadata": {
    "scrolled": true
   },
   "outputs": [
    {
     "data": {
      "image/png": "[encoded data removed]",
      "text/plain": [
       "<matplotlib.figure.Figure at 0x7f9267db7490>"
      ]
     },
     "metadata": {},
     "output_type": "display_data"
    }
   ],
   "source": [
    "# Show the top 6 errors\n",
    "display_errors(most_important_errors, X_test_errors, Y_cls_errors, Y_true_errors)"
   ]
  },
  {
   "cell_type": "markdown",
   "metadata": {},
   "source": [
    "## Using Dropout Layers"
   ]
  },
  {
   "cell_type": "markdown",
   "metadata": {},
   "source": [
    "As we have learned last time, the trainings and validation loss of the fit history is not comparable when using dropout. We can define our own callback function which calculates the loss and metric after each epoch for any dataset"
   ]
  },
  {
   "cell_type": "code",
   "execution_count": 37,
   "metadata": {
    "collapsed": true
   },
   "outputs": [],
   "source": [
    "from keras.callbacks import Callback\n",
    "\n",
    "class HistoryEpoch(Callback):\n",
    "    def __init__(self, data):\n",
    "        self.data = data        \n",
    "        \n",
    "    def on_train_begin(self, logs={}):\n",
    "        self.loss = []\n",
    "        self.acc = []\n",
    "\n",
    "    def on_epoch_end(self, epoch, logs={}):\n",
    "        x, y = self.data\n",
    "        l, a = self.model.evaluate(x, y, verbose=0)\n",
    "        self.loss.append(l)\n",
    "        self.acc.append(a)"
   ]
  },
  {
   "cell_type": "markdown",
   "metadata": {},
   "source": [
    "## Task 3: Using regularizer\n",
    "\n",
    "\n",
    "* Modify your previous example network by adding a Dropout layer after each hidden layer\n",
    "* Add l2 regularization to the hidden layers\n",
    "* Use the new defined `HistoryEpoch` for training, validation and test data set in order to save a comparable loss function and metric. This is done by e.g.: `train_hist=HistoryEpoch((X_train, Y_train))`. In the `fit` function you can call the callback then by specifying `callbacks=[train_hist]`.\n",
    "* Plot the loss and metric evolution and compare the calculated loss with the default loss from the history\n",
    "* Evaluate the performance of the NN as for the unregularized NN and compare the performance"
   ]
  },
  {
   "cell_type": "code",
   "execution_count": 38,
   "metadata": {},
   "outputs": [
    {
     "name": "stdout",
     "output_type": "stream",
     "text": [
      "_________________________________________________________________\n",
      "Layer (type)                 Output Shape              Param #   \n",
      "=================================================================\n",
      "dense_4 (Dense)              (None, 512)               401920    \n",
      "_________________________________________________________________\n",
      "dropout_1 (Dropout)          (None, 512)               0         \n",
      "_________________________________________________________________\n",
      "dense_5 (Dense)              (None, 256)               131328    \n",
      "_________________________________________________________________\n",
      "dropout_2 (Dropout)          (None, 256)               0         \n",
      "_________________________________________________________________\n",
      "dense_6 (Dense)              (None, 10)                2570      \n",
      "=================================================================\n",
      "Total params: 535,818\n",
      "Trainable params: 535,818\n",
      "Non-trainable params: 0\n",
      "_________________________________________________________________\n"
     ]
    }
   ],
   "source": [
    "from keras.layers.core import Dropout\n",
    "from keras.regularizers import l2\n",
    "\n",
    "dropout=0.5\n",
    "l2_lambda = 0.0001\n",
    "\n",
    "model_dropout = Sequential()\n",
    "model_dropout.add(Dense(512, activation='relu', kernel_regularizer=l2(l2_lambda), input_dim=784))\n",
    "model_dropout.add(Dropout(dropout))\n",
    "model_dropout.add(Dense(256, activation='relu', kernel_regularizer=l2(l2_lambda)))\n",
    "model_dropout.add(Dropout(dropout))\n",
    "model_dropout.add(Dense(10, activation='softmax'))\n",
    "\n",
    "train_hist=HistoryEpoch((X_train, Y_train))\n",
    "val_hist=HistoryEpoch((X_val, Y_val))\n",
    "test_hist=HistoryEpoch((X_test, Y_test))\n",
    "\n",
    "\n",
    "model_dropout.compile(loss='categorical_crossentropy', optimizer='adam', metrics=['accuracy'])\n",
    "model_dropout.summary()"
   ]
  },
  {
   "cell_type": "code",
   "execution_count": 39,
   "metadata": {
    "scrolled": true
   },
   "outputs": [
    {
     "name": "stdout",
     "output_type": "stream",
     "text": [
      "Train on 42000 samples, validate on 18000 samples\n",
      "Epoch 1/50\n",
      "42000/42000 [==============================] - 3s 80us/step - loss: 0.7435 - acc: 0.7940 - val_loss: 0.3138 - val_acc: 0.9300\n",
      "Epoch 2/50\n",
      "42000/42000 [==============================] - 3s 64us/step - loss: 0.3466 - acc: 0.9219 - val_loss: 0.2443 - val_acc: 0.9491\n",
      "Epoch 3/50\n",
      "42000/42000 [==============================] - 4s 86us/step - loss: 0.2801 - acc: 0.9408 - val_loss: 0.2148 - val_acc: 0.9581\n",
      "Epoch 4/50\n",
      "42000/42000 [==============================] - 3s 77us/step - loss: 0.2390 - acc: 0.9515 - val_loss: 0.1933 - val_acc: 0.9643\n",
      "Epoch 5/50\n",
      "42000/42000 [==============================] - 3s 70us/step - loss: 0.2223 - acc: 0.9557 - val_loss: 0.1828 - val_acc: 0.9681\n",
      "Epoch 6/50\n",
      "42000/42000 [==============================] - 3s 72us/step - loss: 0.1979 - acc: 0.9633 - val_loss: 0.1730 - val_acc: 0.9693\n",
      "Epoch 7/50\n",
      "42000/42000 [==============================] - 3s 73us/step - loss: 0.1853 - acc: 0.9670 - val_loss: 0.1654 - val_acc: 0.9728\n",
      "Epoch 8/50\n",
      "42000/42000 [==============================] - 4s 96us/step - loss: 0.1810 - acc: 0.9677 - val_loss: 0.1662 - val_acc: 0.9718\n",
      "Epoch 9/50\n",
      "42000/42000 [==============================] - 4s 84us/step - loss: 0.1687 - acc: 0.9719 - val_loss: 0.1563 - val_acc: 0.9750\n",
      "Epoch 10/50\n",
      "42000/42000 [==============================] - 3s 83us/step - loss: 0.1620 - acc: 0.9736 - val_loss: 0.1518 - val_acc: 0.9757\n",
      "Epoch 11/50\n",
      "42000/42000 [==============================] - 3s 74us/step - loss: 0.1541 - acc: 0.9743 - val_loss: 0.1534 - val_acc: 0.9761\n",
      "Epoch 12/50\n",
      "42000/42000 [==============================] - 4s 100us/step - loss: 0.1452 - acc: 0.9768 - val_loss: 0.1487 - val_acc: 0.9763\n",
      "Epoch 13/50\n",
      "42000/42000 [==============================] - 4s 87us/step - loss: 0.1449 - acc: 0.9765 - val_loss: 0.1451 - val_acc: 0.9778\n",
      "Epoch 14/50\n",
      "42000/42000 [==============================] - 3s 74us/step - loss: 0.1392 - acc: 0.9787 - val_loss: 0.1420 - val_acc: 0.9794\n",
      "Epoch 15/50\n",
      "42000/42000 [==============================] - 3s 69us/step - loss: 0.1348 - acc: 0.9794 - val_loss: 0.1422 - val_acc: 0.9791\n",
      "Epoch 16/50\n",
      "42000/42000 [==============================] - 4s 103us/step - loss: 0.1268 - acc: 0.9816 - val_loss: 0.1374 - val_acc: 0.9797\n",
      "Epoch 17/50\n",
      "42000/42000 [==============================] - 3s 71us/step - loss: 0.1274 - acc: 0.9811 - val_loss: 0.1408 - val_acc: 0.9784\n",
      "Epoch 18/50\n",
      "42000/42000 [==============================] - 3s 68us/step - loss: 0.1232 - acc: 0.9820 - val_loss: 0.1352 - val_acc: 0.9804\n",
      "Epoch 19/50\n",
      "42000/42000 [==============================] - 2s 59us/step - loss: 0.1287 - acc: 0.9805 - val_loss: 0.1337 - val_acc: 0.9813\n",
      "Epoch 20/50\n",
      "42000/42000 [==============================] - 2s 59us/step - loss: 0.1195 - acc: 0.9827 - val_loss: 0.1366 - val_acc: 0.9802\n",
      "Epoch 21/50\n",
      "42000/42000 [==============================] - 3s 61us/step - loss: 0.1162 - acc: 0.9843 - val_loss: 0.1322 - val_acc: 0.9807\n",
      "Epoch 22/50\n",
      "42000/42000 [==============================] - 3s 64us/step - loss: 0.1142 - acc: 0.9847 - val_loss: 0.1343 - val_acc: 0.9807\n",
      "Epoch 23/50\n",
      "42000/42000 [==============================] - 3s 71us/step - loss: 0.1108 - acc: 0.9848 - val_loss: 0.1295 - val_acc: 0.9815\n",
      "Epoch 24/50\n",
      "42000/42000 [==============================] - 3s 76us/step - loss: 0.1098 - acc: 0.9854 - val_loss: 0.1312 - val_acc: 0.9805\n",
      "Epoch 25/50\n",
      "42000/42000 [==============================] - 3s 76us/step - loss: 0.1080 - acc: 0.9857 - val_loss: 0.1298 - val_acc: 0.9813\n",
      "Epoch 26/50\n",
      "42000/42000 [==============================] - 4s 95us/step - loss: 0.1090 - acc: 0.9850 - val_loss: 0.1296 - val_acc: 0.9815\n",
      "Epoch 27/50\n",
      "42000/42000 [==============================] - 4s 88us/step - loss: 0.1042 - acc: 0.9858 - val_loss: 0.1322 - val_acc: 0.9799\n",
      "Epoch 28/50\n",
      "42000/42000 [==============================] - 4s 85us/step - loss: 0.1050 - acc: 0.9854 - val_loss: 0.1273 - val_acc: 0.9816\n",
      "Epoch 29/50\n",
      "42000/42000 [==============================] - 3s 81us/step - loss: 0.1031 - acc: 0.9866 - val_loss: 0.1294 - val_acc: 0.9816\n",
      "Epoch 30/50\n",
      "42000/42000 [==============================] - 4s 84us/step - loss: 0.1054 - acc: 0.9854 - val_loss: 0.1336 - val_acc: 0.9797\n",
      "Epoch 31/50\n",
      "42000/42000 [==============================] - 3s 71us/step - loss: 0.1032 - acc: 0.9861 - val_loss: 0.1242 - val_acc: 0.9827\n",
      "Epoch 32/50\n",
      "42000/42000 [==============================] - 4s 107us/step - loss: 0.1053 - acc: 0.9853 - val_loss: 0.1300 - val_acc: 0.9811\n",
      "Epoch 33/50\n",
      "42000/42000 [==============================] - 3s 80us/step - loss: 0.0990 - acc: 0.9871 - val_loss: 0.1266 - val_acc: 0.9814\n",
      "Epoch 34/50\n",
      "42000/42000 [==============================] - 3s 78us/step - loss: 0.1116 - acc: 0.9825 - val_loss: 0.1334 - val_acc: 0.9801\n",
      "Epoch 35/50\n",
      "42000/42000 [==============================] - 4s 95us/step - loss: 0.1082 - acc: 0.9854 - val_loss: 0.1290 - val_acc: 0.9808\n",
      "Epoch 36/50\n",
      "42000/42000 [==============================] - 4s 91us/step - loss: 0.1035 - acc: 0.9857 - val_loss: 0.1284 - val_acc: 0.9812\n",
      "Epoch 37/50\n",
      "42000/42000 [==============================] - 4s 87us/step - loss: 0.1014 - acc: 0.9867 - val_loss: 0.1269 - val_acc: 0.9817\n",
      "Epoch 38/50\n",
      "42000/42000 [==============================] - 3s 81us/step - loss: 0.1010 - acc: 0.9862 - val_loss: 0.1277 - val_acc: 0.9822\n",
      "Epoch 39/50\n",
      "42000/42000 [==============================] - 3s 83us/step - loss: 0.0982 - acc: 0.9871 - val_loss: 0.1281 - val_acc: 0.9816\n",
      "Epoch 40/50\n",
      "42000/42000 [==============================] - 5s 107us/step - loss: 0.0967 - acc: 0.9882 - val_loss: 0.1269 - val_acc: 0.9804\n",
      "Epoch 41/50\n",
      "42000/42000 [==============================] - 5s 108us/step - loss: 0.0955 - acc: 0.9882 - val_loss: 0.1248 - val_acc: 0.9826\n",
      "Epoch 42/50\n",
      "42000/42000 [==============================] - 4s 87us/step - loss: 0.0947 - acc: 0.9883 - val_loss: 0.1254 - val_acc: 0.9819\n",
      "Epoch 43/50\n",
      "42000/42000 [==============================] - 4s 86us/step - loss: 0.0927 - acc: 0.9886 - val_loss: 0.1252 - val_acc: 0.9817\n",
      "Epoch 44/50\n",
      "42000/42000 [==============================] - 4s 90us/step - loss: 0.1105 - acc: 0.9831 - val_loss: 0.1303 - val_acc: 0.9804\n",
      "Epoch 45/50\n",
      "42000/42000 [==============================] - 4s 86us/step - loss: 0.0997 - acc: 0.9867 - val_loss: 0.1268 - val_acc: 0.9817\n",
      "Epoch 46/50\n",
      "42000/42000 [==============================] - 4s 90us/step - loss: 0.1021 - acc: 0.9869 - val_loss: 0.1273 - val_acc: 0.9810\n",
      "Epoch 47/50\n",
      "42000/42000 [==============================] - 5s 131us/step - loss: 0.0965 - acc: 0.9877 - val_loss: 0.1254 - val_acc: 0.9825\n",
      "Epoch 48/50\n",
      "42000/42000 [==============================] - 4s 96us/step - loss: 0.0976 - acc: 0.9874 - val_loss: 0.1215 - val_acc: 0.9833\n",
      "Epoch 49/50\n",
      "42000/42000 [==============================] - 4s 90us/step - loss: 0.0956 - acc: 0.9875 - val_loss: 0.1277 - val_acc: 0.9805\n",
      "Epoch 50/50\n",
      "42000/42000 [==============================] - 4s 94us/step - loss: 0.1077 - acc: 0.9842 - val_loss: 0.1287 - val_acc: 0.9822\n"
     ]
    }
   ],
   "source": [
    "history_dropout = model_dropout.fit(X_train, Y_train, batch_size=512, epochs=50, verbose=1, validation_data=(X_val, Y_val), callbacks=[val_hist, train_hist, test_hist])\n"
   ]
  },
  {
   "cell_type": "code",
   "execution_count": 40,
   "metadata": {},
   "outputs": [
    {
     "data": {
      "image/png": "[encoded data removed]",
      "text/plain": [
       "<matplotlib.figure.Figure at 0x7f925a87a810>"
      ]
     },
     "metadata": {},
     "output_type": "display_data"
    },
    {
     "data": {
      "image/png": "[encoded data removed]",
      "text/plain": [
       "<matplotlib.figure.Figure at 0x7f925a844110>"
      ]
     },
     "metadata": {},
     "output_type": "display_data"
    }
   ],
   "source": [
    "plt.figure()\n",
    "plt.xlabel('Epochs')\n",
    "plt.ylabel('Loss')\n",
    "plt.plot(train_hist.loss)\n",
    "plt.plot(val_hist.loss)\n",
    "plt.plot(test_hist.loss)\n",
    "plt.legend(['Training', 'Validation', 'Testing'])\n",
    "\n",
    "plt.figure()\n",
    "plt.xlabel('Epochs')\n",
    "plt.ylabel('Accuracy')\n",
    "plt.plot(train_hist.acc)\n",
    "plt.plot(val_hist.acc)\n",
    "plt.plot(test_hist.acc)\n",
    "plt.legend(['Training', 'Validation', 'Testing'], loc='lower right')\n",
    "plt.show()"
   ]
  },
  {
   "cell_type": "code",
   "execution_count": 41,
   "metadata": {
    "scrolled": false
   },
   "outputs": [
    {
     "data": {
      "image/png": "[encoded data removed]",
      "text/plain": [
       "<matplotlib.figure.Figure at 0x7f926546cb50>"
      ]
     },
     "metadata": {},
     "output_type": "display_data"
    },
    {
     "data": {
      "image/png": "[encoded data removed]",
      "text/plain": [
       "<matplotlib.figure.Figure at 0x7f9267abe050>"
      ]
     },
     "metadata": {},
     "output_type": "display_data"
    }
   ],
   "source": [
    "plot_history(history_dropout)"
   ]
  },
  {
   "cell_type": "markdown",
   "metadata": {},
   "source": [
    "## Evaluation"
   ]
  },
  {
   "cell_type": "code",
   "execution_count": 42,
   "metadata": {},
   "outputs": [
    {
     "name": "stdout",
     "output_type": "stream",
     "text": [
      "10000/10000 [==============================] - 0s 39us/step\n",
      "[0.12014759578704834, 0.98309999999999997]\n"
     ]
    }
   ],
   "source": [
    "loss_and_metrics = model_dropout.evaluate(X_test, Y_test, batch_size=256)\n",
    "print loss_and_metrics"
   ]
  },
  {
   "cell_type": "code",
   "execution_count": 43,
   "metadata": {
    "collapsed": true
   },
   "outputs": [],
   "source": [
    "# Predict the values from the test dataset\n",
    "Y_pred = model_dropout.predict(X_test)\n",
    "# Convert predictions classes to one hot vectors \n",
    "Y_cls = np.argmax(Y_pred, axis = 1) \n",
    "# Convert validation observations to one hot vectors\n",
    "Y_true = np.argmax(Y_test, axis = 1) \n"
   ]
  },
  {
   "cell_type": "code",
   "execution_count": 44,
   "metadata": {
    "scrolled": true
   },
   "outputs": [
    {
     "name": "stdout",
     "output_type": "stream",
     "text": [
      "Classification Report:\n",
      "             precision    recall  f1-score   support\n",
      "\n",
      "          0       0.97      0.99      0.98       980\n",
      "          1       0.99      0.99      0.99      1135\n",
      "          2       0.98      0.98      0.98      1032\n",
      "          3       0.98      0.99      0.99      1010\n",
      "          4       0.97      0.99      0.98       982\n",
      "          5       0.99      0.98      0.99       892\n",
      "          6       0.99      0.98      0.99       958\n",
      "          7       0.98      0.98      0.98      1028\n",
      "          8       0.98      0.97      0.98       974\n",
      "          9       0.99      0.97      0.98      1009\n",
      "\n",
      "avg / total       0.98      0.98      0.98     10000\n",
      "\n"
     ]
    }
   ],
   "source": [
    "from sklearn.metrics import classification_report\n",
    "print 'Classification Report:\\n', classification_report(Y_true,Y_cls)"
   ]
  },
  {
   "cell_type": "code",
   "execution_count": 45,
   "metadata": {},
   "outputs": [
    {
     "data": {
      "image/png": "[encoded data removed]",
      "text/plain": [
       "<matplotlib.figure.Figure at 0x7f9265605fd0>"
      ]
     },
     "metadata": {},
     "output_type": "display_data"
    }
   ],
   "source": [
    "label=0\n",
    "Y_pred_prob = prob_multiclass(Y_pred, label)\n",
    "plt.hist(Y_pred_prob[Y_true == label], alpha=0.5, color='red', bins=10, log = True)\n",
    "plt.hist(Y_pred_prob[Y_true != label], alpha=0.5, color='blue', bins=10, log = True)\n",
    "plt.legend(['digit == 0', 'digit != 0'], loc='upper right')\n",
    "plt.xlabel('Probability of being 0')\n",
    "plt.ylabel('Number of entries')\n",
    "plt.show()"
   ]
  },
  {
   "cell_type": "code",
   "execution_count": 46,
   "metadata": {
    "scrolled": false
   },
   "outputs": [
    {
     "data": {
      "image/png": "[encoded data removed]",
      "text/plain": [
       "<matplotlib.figure.Figure at 0x7f926545e150>"
      ]
     },
     "metadata": {},
     "output_type": "display_data"
    }
   ],
   "source": [
    "# compute the confusion matrix\n",
    "confusion_mtx = confusion_matrix(Y_true, Y_cls) \n",
    "# plot the confusion matrix\n",
    "plt.figure(figsize=(8,8))\n",
    "plot_confusion_matrix(confusion_mtx, classes = range(10))"
   ]
  },
  {
   "cell_type": "code",
   "execution_count": 47,
   "metadata": {
    "scrolled": true
   },
   "outputs": [
    {
     "data": {
      "image/png": "[encoded data removed]",
      "text/plain": [
       "<matplotlib.figure.Figure at 0x7f9267639290>"
      ]
     },
     "metadata": {},
     "output_type": "display_data"
    }
   ],
   "source": [
    "#errors\n",
    "errors = (Y_cls - Y_true != 0)\n",
    "\n",
    "Y_cls_errors = Y_cls[errors]\n",
    "Y_pred_errors = Y_pred[errors]\n",
    "Y_true_errors = Y_true[errors]\n",
    "X_test_errors = X_test[errors]\n",
    "\n",
    "# Probabilities of the wrong predicted numbers\n",
    "Y_pred_errors_prob = np.max(Y_pred_errors,axis = 1)\n",
    "\n",
    "# Predicted probabilities of the true values in the error set\n",
    "true_prob_errors = np.diagonal(np.take(Y_pred_errors, Y_true_errors, axis=1))\n",
    "\n",
    "# Difference between the probability of the predicted label and the true label\n",
    "delta_pred_true_errors = Y_pred_errors_prob - true_prob_errors\n",
    "\n",
    "# Sorted list of the delta prob errors\n",
    "sorted_dela_errors = np.argsort(delta_pred_true_errors)\n",
    "\n",
    "# Top 6 errors \n",
    "most_important_errors = sorted_dela_errors[-6:]\n",
    "# Show the top 6 errors\n",
    "display_errors(most_important_errors, X_test_errors, Y_cls_errors, Y_true_errors)"
   ]
  },
  {
   "cell_type": "markdown",
   "metadata": {},
   "source": [
    "## Early Stopping as a regularizer\n",
    "\n",
    "* If you continue training, at some point the validation loss will start to increase: that is when the model starts to **overfit**. We can use EarlyStopping as a regularizer:"
   ]
  },
  {
   "cell_type": "code",
   "execution_count": 48,
   "metadata": {
    "scrolled": true
   },
   "outputs": [
    {
     "name": "stdout",
     "output_type": "stream",
     "text": [
      "_________________________________________________________________\n",
      "Layer (type)                 Output Shape              Param #   \n",
      "=================================================================\n",
      "dense_4 (Dense)              (None, 512)               401920    \n",
      "_________________________________________________________________\n",
      "dropout_1 (Dropout)          (None, 512)               0         \n",
      "_________________________________________________________________\n",
      "dense_5 (Dense)              (None, 256)               131328    \n",
      "_________________________________________________________________\n",
      "dropout_2 (Dropout)          (None, 256)               0         \n",
      "_________________________________________________________________\n",
      "dense_6 (Dense)              (None, 10)                2570      \n",
      "=================================================================\n",
      "Total params: 535,818\n",
      "Trainable params: 535,818\n",
      "Non-trainable params: 0\n",
      "_________________________________________________________________\n"
     ]
    }
   ],
   "source": [
    "from keras.callbacks import EarlyStopping\n",
    "\n",
    "early_stop = EarlyStopping(monitor='val_loss', patience=5, verbose=1)\n",
    "#Also possible choice:\n",
    "#early_stop = EarlyStopping(monitor='val_acc', patience=5, verbose=1)\n",
    "\n",
    "dropout=0.5\n",
    "\n",
    "model_ES = Sequential()\n",
    "model_ES.add(Dense(512, activation='relu', kernel_regularizer=l2(l2_lambda), input_dim=784))\n",
    "model_ES.add(Dropout(dropout))\n",
    "model_ES.add(Dense(256, activation='relu', kernel_regularizer=l2(l2_lambda)))\n",
    "model_ES.add(Dropout(dropout))\n",
    "model_ES.add(Dense(10, activation='softmax'))\n",
    "\n",
    "model_ES.compile(loss='categorical_crossentropy', optimizer='adam', metrics=['accuracy'])\n",
    "\n",
    "model_dropout.summary()   \n"
   ]
  },
  {
   "cell_type": "code",
   "execution_count": 49,
   "metadata": {
    "scrolled": true
   },
   "outputs": [
    {
     "name": "stdout",
     "output_type": "stream",
     "text": [
      "Train on 42000 samples, validate on 10000 samples\n",
      "Epoch 1/100\n",
      "42000/42000 [==============================] - 6s 137us/step - loss: 0.6138 - acc: 0.8329 - val_loss: 0.2602 - val_acc: 0.9456\n",
      "Epoch 2/100\n",
      "42000/42000 [==============================] - 5s 123us/step - loss: 0.3040 - acc: 0.9324 - val_loss: 0.2091 - val_acc: 0.9582\n",
      "Epoch 3/100\n",
      "42000/42000 [==============================] - 8s 186us/step - loss: 0.2485 - acc: 0.9494 - val_loss: 0.1901 - val_acc: 0.9656\n",
      "Epoch 4/100\n",
      "42000/42000 [==============================] - 6s 133us/step - loss: 0.2234 - acc: 0.9558 - val_loss: 0.1730 - val_acc: 0.9696\n",
      "Epoch 5/100\n",
      "42000/42000 [==============================] - 5s 117us/step - loss: 0.2007 - acc: 0.9622 - val_loss: 0.1605 - val_acc: 0.9724\n",
      "Epoch 6/100\n",
      "42000/42000 [==============================] - 4s 107us/step - loss: 0.1915 - acc: 0.9652 - val_loss: 0.1602 - val_acc: 0.9720\n",
      "Epoch 7/100\n",
      "42000/42000 [==============================] - 4s 102us/step - loss: 0.1752 - acc: 0.9695 - val_loss: 0.1567 - val_acc: 0.9751\n",
      "Epoch 8/100\n",
      "42000/42000 [==============================] - 6s 149us/step - loss: 0.1714 - acc: 0.9703 - val_loss: 0.1577 - val_acc: 0.9744\n",
      "Epoch 9/100\n",
      "42000/42000 [==============================] - 6s 146us/step - loss: 0.1605 - acc: 0.9734 - val_loss: 0.1477 - val_acc: 0.9774\n",
      "Epoch 10/100\n",
      "42000/42000 [==============================] - 5s 123us/step - loss: 0.1523 - acc: 0.9757 - val_loss: 0.1488 - val_acc: 0.9769\n",
      "Epoch 11/100\n",
      "42000/42000 [==============================] - 5s 130us/step - loss: 0.1494 - acc: 0.9765 - val_loss: 0.1460 - val_acc: 0.9779\n",
      "Epoch 12/100\n",
      "42000/42000 [==============================] - 5s 124us/step - loss: 0.1453 - acc: 0.9767 - val_loss: 0.1394 - val_acc: 0.9803\n",
      "Epoch 13/100\n",
      "42000/42000 [==============================] - 5s 122us/step - loss: 0.1418 - acc: 0.9779 - val_loss: 0.1393 - val_acc: 0.9798\n",
      "Epoch 14/100\n",
      "42000/42000 [==============================] - 5s 127us/step - loss: 0.1436 - acc: 0.9769 - val_loss: 0.1400 - val_acc: 0.9795\n",
      "Epoch 15/100\n",
      "42000/42000 [==============================] - 5s 130us/step - loss: 0.1373 - acc: 0.9793 - val_loss: 0.1378 - val_acc: 0.9791\n",
      "Epoch 16/100\n",
      "42000/42000 [==============================] - 5s 116us/step - loss: 0.1386 - acc: 0.9785 - val_loss: 0.1414 - val_acc: 0.9781\n",
      "Epoch 17/100\n",
      "42000/42000 [==============================] - 5s 125us/step - loss: 0.1323 - acc: 0.9803 - val_loss: 0.1363 - val_acc: 0.9808\n",
      "Epoch 18/100\n",
      "42000/42000 [==============================] - 5s 122us/step - loss: 0.1314 - acc: 0.9806 - val_loss: 0.1375 - val_acc: 0.9794\n",
      "Epoch 19/100\n",
      "42000/42000 [==============================] - 5s 127us/step - loss: 0.1281 - acc: 0.9809 - val_loss: 0.1321 - val_acc: 0.9808\n",
      "Epoch 20/100\n",
      "42000/42000 [==============================] - 5s 124us/step - loss: 0.1271 - acc: 0.9817 - val_loss: 0.1327 - val_acc: 0.9817\n",
      "Epoch 21/100\n",
      "42000/42000 [==============================] - 5s 121us/step - loss: 0.1329 - acc: 0.9804 - val_loss: 0.1352 - val_acc: 0.9802\n",
      "Epoch 22/100\n",
      "42000/42000 [==============================] - 5s 119us/step - loss: 0.1284 - acc: 0.9821 - val_loss: 0.1373 - val_acc: 0.9799\n",
      "Epoch 23/100\n",
      "42000/42000 [==============================] - 6s 134us/step - loss: 0.1263 - acc: 0.9825 - val_loss: 0.1349 - val_acc: 0.9823\n",
      "Epoch 24/100\n",
      "42000/42000 [==============================] - 5s 121us/step - loss: 0.1242 - acc: 0.9822 - val_loss: 0.1347 - val_acc: 0.9819\n",
      "Epoch 00024: early stopping\n"
     ]
    }
   ],
   "source": [
    "history_ES = model_ES.fit(X_train, Y_train, validation_data = (X_test, Y_test), epochs=100, batch_size=256, verbose=1, \n",
    "             callbacks=[early_stop]) "
   ]
  },
  {
   "cell_type": "code",
   "execution_count": 50,
   "metadata": {},
   "outputs": [
    {
     "data": {
      "image/png": "[encoded data removed]",
      "text/plain": [
       "<matplotlib.figure.Figure at 0x7f925a10b490>"
      ]
     },
     "metadata": {},
     "output_type": "display_data"
    },
    {
     "data": {
      "image/png": "[encoded data removed]",
      "text/plain": [
       "<matplotlib.figure.Figure at 0x7f926773da90>"
      ]
     },
     "metadata": {},
     "output_type": "display_data"
    }
   ],
   "source": [
    "plot_history(history_ES)"
   ]
  },
  {
   "cell_type": "markdown",
   "metadata": {},
   "source": [
    "---"
   ]
  },
  {
   "cell_type": "markdown",
   "metadata": {},
   "source": [
    "# Bonus: Inspecting Layers"
   ]
  },
  {
   "cell_type": "code",
   "execution_count": 51,
   "metadata": {},
   "outputs": [
    {
     "name": "stdout",
     "output_type": "stream",
     "text": [
      "_________________________________________________________________\n",
      "Layer (type)                 Output Shape              Param #   \n",
      "=================================================================\n",
      "dense_4 (Dense)              (None, 512)               401920    \n",
      "_________________________________________________________________\n",
      "dropout_1 (Dropout)          (None, 512)               0         \n",
      "_________________________________________________________________\n",
      "dense_5 (Dense)              (None, 256)               131328    \n",
      "_________________________________________________________________\n",
      "dropout_2 (Dropout)          (None, 256)               0         \n",
      "_________________________________________________________________\n",
      "dense_6 (Dense)              (None, 10)                2570      \n",
      "=================================================================\n",
      "Total params: 535,818\n",
      "Trainable params: 535,818\n",
      "Non-trainable params: 0\n",
      "_________________________________________________________________\n"
     ]
    }
   ],
   "source": [
    "# We already used `summary`\n",
    "model_dropout.summary()"
   ]
  },
  {
   "cell_type": "markdown",
   "metadata": {},
   "source": [
    "### `model.layers` is iterable"
   ]
  },
  {
   "cell_type": "code",
   "execution_count": 52,
   "metadata": {},
   "outputs": [
    {
     "name": "stdout",
     "output_type": "stream",
     "text": [
      "('Model Input Tensors: ', <tf.Tensor 'dense_1_input:0' shape=(?, 784) dtype=float32>)\n",
      "Layers - Network Configuration:\n",
      "('dense_1', True)\n",
      "Layer Configuration:\n",
      "({'kernel_initializer': {'class_name': 'VarianceScaling', 'config': {'distribution': 'uniform', 'scale': 1.0, 'seed': None, 'mode': 'fan_avg'}}, 'name': 'dense_1', 'kernel_constraint': None, 'bias_regularizer': None, 'bias_constraint': None, 'dtype': 'float32', 'activation': 'relu', 'trainable': True, 'kernel_regularizer': None, 'bias_initializer': {'class_name': 'Zeros', 'config': {}}, 'units': 512, 'batch_input_shape': (None, 784), 'use_bias': True, 'activity_regularizer': None},)\n",
      "('dense_2', True)\n",
      "Layer Configuration:\n",
      "({'kernel_initializer': {'class_name': 'VarianceScaling', 'config': {'distribution': 'uniform', 'scale': 1.0, 'seed': None, 'mode': 'fan_avg'}}, 'name': 'dense_2', 'kernel_constraint': None, 'bias_regularizer': None, 'bias_constraint': None, 'activation': 'relu', 'trainable': True, 'kernel_regularizer': None, 'bias_initializer': {'class_name': 'Zeros', 'config': {}}, 'units': 256, 'use_bias': True, 'activity_regularizer': None},)\n",
      "('dense_3', True)\n",
      "Layer Configuration:\n",
      "({'kernel_initializer': {'class_name': 'VarianceScaling', 'config': {'distribution': 'uniform', 'scale': 1.0, 'seed': None, 'mode': 'fan_avg'}}, 'name': 'dense_3', 'kernel_constraint': None, 'bias_regularizer': None, 'bias_constraint': None, 'activation': 'softmax', 'trainable': True, 'kernel_regularizer': None, 'bias_initializer': {'class_name': 'Zeros', 'config': {}}, 'units': 10, 'use_bias': True, 'activity_regularizer': None},)\n",
      "('Model Output Tensors: ', <tf.Tensor 'dense_3/Softmax:0' shape=(?, 10) dtype=float32>)\n"
     ]
    }
   ],
   "source": [
    "print('Model Input Tensors: ', model.input)\n",
    "print('Layers - Network Configuration:')\n",
    "for layer in model.layers:\n",
    "    print(layer.name, layer.trainable)\n",
    "    print('Layer Configuration:')\n",
    "    print(layer.get_config(), )\n",
    "print('Model Output Tensors: ', model.output)"
   ]
  },
  {
   "cell_type": "markdown",
   "metadata": {},
   "source": [
    "## Extract hidden layer representation of the given data"
   ]
  },
  {
   "cell_type": "markdown",
   "metadata": {},
   "source": [
    "One **simple** way to do it is to use the weights of your model to build a new model that's truncated at the layer you want to read. \n",
    "\n",
    "Then you can run the `._predict(X_batch)` method to get the activations for a batch of inputs."
   ]
  },
  {
   "cell_type": "code",
   "execution_count": 53,
   "metadata": {
    "collapsed": true
   },
   "outputs": [],
   "source": [
    "model_truncated = Sequential()\n",
    "model_truncated.add(Dense(512, activation='relu', input_shape=(784,)))\n",
    "model_truncated.add(Dropout(dropout))\n",
    "model_truncated.add(Dense(256, activation='relu'))\n",
    "\n",
    "for i, layer in enumerate(model_truncated.layers):\n",
    "    layer.set_weights(model_dropout.layers[i].get_weights())\n",
    "\n",
    "model_truncated.compile(loss='categorical_crossentropy', optimizer='adam',metrics=['accuracy'])"
   ]
  },
  {
   "cell_type": "code",
   "execution_count": 54,
   "metadata": {},
   "outputs": [
    {
     "data": {
      "text/plain": [
       "False"
      ]
     },
     "execution_count": 54,
     "metadata": {},
     "output_type": "execute_result"
    }
   ],
   "source": [
    "# Check\n",
    "np.all(model_truncated.layers[0].get_weights()[0] == model.layers[0].get_weights()[0])"
   ]
  },
  {
   "cell_type": "code",
   "execution_count": 55,
   "metadata": {
    "collapsed": true
   },
   "outputs": [],
   "source": [
    "hidden_features = model_truncated.predict(X_train)"
   ]
  },
  {
   "cell_type": "code",
   "execution_count": 56,
   "metadata": {},
   "outputs": [
    {
     "data": {
      "text/plain": [
       "(42000, 256)"
      ]
     },
     "execution_count": 56,
     "metadata": {},
     "output_type": "execute_result"
    }
   ],
   "source": [
    "hidden_features.shape"
   ]
  },
  {
   "cell_type": "code",
   "execution_count": 57,
   "metadata": {},
   "outputs": [
    {
     "data": {
      "text/plain": [
       "(42000, 784)"
      ]
     },
     "execution_count": 57,
     "metadata": {},
     "output_type": "execute_result"
    }
   ],
   "source": [
    "X_train.shape"
   ]
  },
  {
   "cell_type": "markdown",
   "metadata": {},
   "source": [
    "#### Hint: Alternative Method to get activations \n",
    "\n",
    "(Using `keras.backend` `function` on Tensors)"
   ]
  },
  {
   "cell_type": "markdown",
   "metadata": {
    "collapsed": true
   },
   "source": [
    "```python\n",
    "def get_activations(model, layer, X_batch):\n",
    "    activations_f = K.function([model.layers[0].input, K.learning_phase()], [layer.output,])\n",
    "    activations = activations_f((X_batch, False))\n",
    "    return activations\n",
    "```"
   ]
  },
  {
   "cell_type": "markdown",
   "metadata": {},
   "source": [
    "### Generate the Embedding of Hidden Features"
   ]
  },
  {
   "cell_type": "markdown",
   "metadata": {},
   "source": [
    "Dimensionality reduction to dim=20 by using principal component analysis (PCA)"
   ]
  },
  {
   "cell_type": "code",
   "execution_count": 58,
   "metadata": {},
   "outputs": [
    {
     "name": "stdout",
     "output_type": "stream",
     "text": [
      "Variance PCA: 0.950339972973\n"
     ]
    }
   ],
   "source": [
    "from sklearn.decomposition import PCA\n",
    "pca = PCA(n_components=20)\n",
    "pca_result = pca.fit_transform(hidden_features)\n",
    "print('Variance PCA: {}'.format(np.sum(pca.explained_variance_ratio_)))"
   ]
  },
  {
   "cell_type": "markdown",
   "metadata": {},
   "source": [
    "Dimensionality reduction to dim=2 by using t-distributed stochastic neighbor embedding (TSNE)"
   ]
  },
  {
   "cell_type": "code",
   "execution_count": 59,
   "metadata": {
    "collapsed": true
   },
   "outputs": [],
   "source": [
    "from sklearn.manifold import TSNE\n",
    "\n",
    "tsne = TSNE(n_components=2)\n",
    "X_tsne = tsne.fit_transform(pca_result[:1000]) ## Reduced for computational issues"
   ]
  },
  {
   "cell_type": "code",
   "execution_count": 60,
   "metadata": {
    "collapsed": true
   },
   "outputs": [],
   "source": [
    "colors_map = np.argmax(Y_train, axis=1)"
   ]
  },
  {
   "cell_type": "code",
   "execution_count": 61,
   "metadata": {},
   "outputs": [
    {
     "data": {
      "text/plain": [
       "(1000, 2)"
      ]
     },
     "execution_count": 61,
     "metadata": {},
     "output_type": "execute_result"
    }
   ],
   "source": [
    "X_tsne.shape"
   ]
  },
  {
   "cell_type": "code",
   "execution_count": 62,
   "metadata": {
    "collapsed": true
   },
   "outputs": [],
   "source": [
    "nb_classes=10"
   ]
  },
  {
   "cell_type": "code",
   "execution_count": 63,
   "metadata": {},
   "outputs": [
    {
     "data": {
      "text/plain": [
       "(array([    2,     8,    23, ..., 41927, 41983, 41988]),)"
      ]
     },
     "execution_count": 63,
     "metadata": {},
     "output_type": "execute_result"
    }
   ],
   "source": [
    "np.where(colors_map==6)"
   ]
  },
  {
   "cell_type": "code",
   "execution_count": 64,
   "metadata": {},
   "outputs": [
    {
     "data": {
      "image/png": "[encoded data removed]",
      "text/plain": [
       "<matplotlib.figure.Figure at 0x7f926782ead0>"
      ]
     },
     "metadata": {},
     "output_type": "display_data"
    }
   ],
   "source": [
    "colors = np.array([x for x in 'b-g-r-c-m-y-k-purple-coral-lime'.split('-')])\n",
    "colors_map = np.argmax(Y_train, axis=1)\n",
    "colors_map = colors_map[:1000]\n",
    "plt.figure(figsize=(10,10))\n",
    "for cl in range(nb_classes):\n",
    "    indices = np.where(colors_map==cl)\n",
    "    plt.scatter(X_tsne[indices,0], X_tsne[indices, 1], c=colors[cl], label=cl)\n",
    "plt.legend()\n",
    "plt.show()"
   ]
  }
 ],
 "metadata": {
  "kernelspec": {
   "display_name": "Python 2",
   "language": "python",
   "name": "python2"
  },
  "language_info": {
   "codemirror_mode": {
    "name": "ipython",
    "version": 2
   },
   "file_extension": ".py",
   "mimetype": "text/x-python",
   "name": "python",
   "nbconvert_exporter": "python",
   "pygments_lexer": "ipython2",
   "version": "2.7.14"
  }
 },
 "nbformat": 4,
 "nbformat_minor": 1
}
