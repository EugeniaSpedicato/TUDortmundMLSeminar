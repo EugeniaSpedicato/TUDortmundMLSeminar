{
 "cells": [
  {
   "cell_type": "markdown",
   "metadata": {},
   "source": [
    "<center>\n",
    "<h1>Introduction to Deep Learning with Keras</h1>\n",
    "<h1>and HEP Data Exploration in Python</h1>\n",
    "<h3>Michela Paganini - Yale University</h3>\n",
    "<h4>High Energy Phenomenology, Experiment and Cosmology Seminar Series</h4>\n",
    "<img src='http://www.edustart.org/wp-content/uploads/2014/03/MIST-Vert-Aggie-Maroon-page-001-300x200.jpg'>\n",
    "</center>\n"
   ]
  },
  {
   "cell_type": "markdown",
   "metadata": {},
   "source": [
    "This is the first of two notebooks for today's tutorial. You will find the second one <a href=\"deeplearning_intro.ipynb\">here</a>."
   ]
  },
  {
   "cell_type": "markdown",
   "metadata": {},
   "source": [
    "## What is Deep Learning?"
   ]
  },
  {
   "cell_type": "markdown",
   "metadata": {},
   "source": [
    "> <i>Deep learning is a particular kind of machine learning that achieves great power and ﬂexibility by learning to represent the world as a nested hierarchy of concepts, with each concept deﬁned in relation to simpler concepts, and more abstract representations computed in terms of less abstract ones.</i>\n",
    "\n",
    "<div align=\"right\">\n",
    "  I. Goodfellow, Y. Bengio, and A. Courville, \"Deep Learning\", MIT Press, 2016. <br>\n",
    "  http://www.deeplearningbook.org/\n",
    "</div>"
   ]
  },
  {
   "cell_type": "markdown",
   "metadata": {},
   "source": [
    "#### Representation Learning"
   ]
  },
  {
   "cell_type": "markdown",
   "metadata": {},
   "source": [
    "> <i>Use machine learning to discover not only the mapping from representation to output but also the representation itself. </i>\n",
    "\n",
    "<div align=\"right\">\n",
    "  I. Goodfellow, Y. Bengio, and A. Courville, \"Deep Learning\", MIT Press, 2016. <br>\n",
    "  http://www.deeplearningbook.org/\n",
    "</div>"
   ]
  },
  {
   "cell_type": "markdown",
   "metadata": {},
   "source": [
    "*e.g.*:\n",
    "* What’s 1753 + 131?\n",
    "* What’s MMXVII - MCMXCI?"
   ]
  },
  {
   "cell_type": "markdown",
   "metadata": {},
   "source": [
    "Our goal: \n",
    "> Learn a function that maps a set of raw electrical signals from the detector all the way to particle identification\n",
    "\n",
    "From D. Whiteson:\n",
    "<img src=\"./images/dwhiteson.jpg\">\n",
    "Deep learning tackles this by breaking down the task into a series of nested and simpler mappings, which can be described by each different layer of the model.\n",
    "Deeper nets give us the flexibility to sequentially learn more and more abstract features from iterative non-linear transformations of the input data.\n",
    "Higher layers of representation amplify aspects of the input that are important for the given task and suppress irrelevant variations."
   ]
  },
  {
   "cell_type": "markdown",
   "metadata": {},
   "source": [
    "## Learning Recipe"
   ]
  },
  {
   "cell_type": "markdown",
   "metadata": {},
   "source": [
    "In parametric, supervised learning:\n",
    "- **Objective**: in the form of a differentiable loss function, to calculate how far your current prediction is from the target\n",
    "- **Model**: parametrized by learnable parameters\n",
    "- **Training strategy**: how to update the parameters\n",
    "- **Data**: enough to learn from & test your performance"
   ]
  },
  {
   "cell_type": "markdown",
   "metadata": {},
   "source": [
    "---"
   ]
  },
  {
   "cell_type": "markdown",
   "metadata": {},
   "source": [
    "## Practical Example"
   ]
  },
  {
   "cell_type": "markdown",
   "metadata": {},
   "source": [
    "From <a href='http://ippog.web.cern.ch/resources/2012/cms-hep-tutorial'> CMS Software Tutorial</a>, developed by Christian Sander and Alexander Schmidt, and available on <a href='http://opendata.cern.ch/'><img src='./images/opendata.jpg' style=\"height:70px; display:inline;\"></a>.\n",
    "\n",
    "<img src='./images/ttbar.jpg' style=\"height:200px;\"></a>\n",
    "The samples come from a $t\\bar{t}$ analysis and they are described in a very clear and accessible way in the <a href='http://ippog.web.cern.ch/sites/ippog.web.cern.ch/files/TutorialDocu_3.pdf'>documentation</a>. This was chosen to provide you with a full demo of my typical workflow, going from a `ROOT` file to a fully trained Keras model.\n",
    "\n",
    "**<i>Disclaimer</i>: my applications won't make 100% physical sense -- please focus on the tools!** \n",
    "\n",
    "Before diving into the Deep Learning world, I want to spend a few minutes discussing some **data handling techniques** I use whenever I get started prototyping my applications. "
   ]
  },
  {
   "cell_type": "markdown",
   "metadata": {},
   "source": [
    "### NumPy"
   ]
  },
  {
   "cell_type": "markdown",
   "metadata": {},
   "source": [
    "<a href=\"http://www.numpy.org/\"><img src=\"images/numpy.jpg\"></a>"
   ]
  },
  {
   "cell_type": "code",
   "execution_count": 1,
   "metadata": {
    "collapsed": true
   },
   "outputs": [],
   "source": [
    "import numpy as np"
   ]
  },
  {
   "cell_type": "code",
   "execution_count": 2,
   "metadata": {},
   "outputs": [
    {
     "data": {
      "text/plain": [
       "array([[ 0,  1,  2],\n",
       "       [ 0,  0,  0],\n",
       "       [ 1,  2, -1]])"
      ]
     },
     "execution_count": 2,
     "metadata": {},
     "output_type": "execute_result"
    }
   ],
   "source": [
    "np.array([[0,1,2], [0,0,0], [1,2,-1]])  #+1 /2 **2 .ravel() etc."
   ]
  },
  {
   "cell_type": "markdown",
   "metadata": {},
   "source": [
    "For a nice `numpy` intro, check out the CERN tutorial <a href='https://indico.cern.ch/event/487416/contributions/2174910/attachments/1280846/1902714/LYLWN_present_2016_may_slides.pdf'>Loose your Loops with NumPy</a> (and tons of online material)."
   ]
  },
  {
   "cell_type": "markdown",
   "metadata": {},
   "source": [
    "<i>Idea:</i> What if those columns represented various branches and every line represented an event/physics object?"
   ]
  },
  {
   "cell_type": "markdown",
   "metadata": {},
   "source": [
    "### From ROOT to numpy: `root_numpy`"
   ]
  },
  {
   "cell_type": "markdown",
   "metadata": {},
   "source": [
    "Very easy to turn your `.root` files into Machine Learning compliant inputs using `numpy` and <a href=\"https://github.com/scikit-hep/root_numpy/tree/4.7.3\">`root_numpy`</a>."
   ]
  },
  {
   "cell_type": "markdown",
   "metadata": {},
   "source": [
    "<a href='http://scikit-hep.org/root_numpy/'><img src='./images/root_numpy.jpg'></a>"
   ]
  },
  {
   "cell_type": "code",
   "execution_count": 3,
   "metadata": {},
   "outputs": [
    {
     "data": {
      "application/javascript": [
       "\n",
       "require(['notebook'],\n",
       "  function() {\n",
       "    IPython.CodeCell.config_defaults.highlight_modes['magic_text/x-c++src'] = {'reg':[/^%%cpp/]};\n",
       "    console.log(\"JupyROOT - %%cpp magic configured\");\n",
       "  }\n",
       ");\n"
      ]
     },
     "metadata": {},
     "output_type": "display_data"
    },
    {
     "name": "stdout",
     "output_type": "stream",
     "text": [
      "Welcome to JupyROOT 6.08/02\n"
     ]
    }
   ],
   "source": [
    "from numpy.lib.recfunctions import stack_arrays\n",
    "from root_numpy import root2array, root2rec\n",
    "import glob"
   ]
  },
  {
   "cell_type": "markdown",
   "metadata": {},
   "source": [
    "Using one single function from `root_numpy`, you can open your `.root` file and turn it into an `ndarray`, a Python object equivalent to an n-dimensional matrix. All you need to do is to pass it the name of the file you'd like to open. Other keyword arguments are specified below.\n",
    "<img src=\"./images/root2array.jpg\">"
   ]
  },
  {
   "cell_type": "markdown",
   "metadata": {},
   "source": [
    "Let's take a look at the MC signal sample from our CMS open dataset:"
   ]
  },
  {
   "cell_type": "code",
   "execution_count": 4,
   "metadata": {
    "collapsed": true
   },
   "outputs": [],
   "source": [
    "ttbar = root2array('files/ttbar.root')"
   ]
  },
  {
   "cell_type": "code",
   "execution_count": 5,
   "metadata": {
    "scrolled": true
   },
   "outputs": [
    {
     "data": {
      "text/plain": [
       "array([ (3, array([ 14.53632641, -22.59884262,  47.94461823], dtype=float32), array([ 81.21743011, -57.12860489, -11.35455418], dtype=float32), array([  69.889328  ,  214.73963928,  103.36489105], dtype=float32), array([ 109.21035004,  223.63397217,  114.65055084], dtype=float32), array([ 2.04609799,  2.28738594, -1.        ], dtype=float32), array([ True,  True,  True], dtype=bool), 0, array([], dtype=float32), array([], dtype=float32), array([], dtype=float32), array([], dtype=float32), array([], dtype=int32), array([], dtype=float32), 0, array([], dtype=float32), array([], dtype=float32), array([], dtype=float32), array([], dtype=float32), array([], dtype=int32), array([], dtype=float32), 0, array([], dtype=float32), array([], dtype=float32), array([], dtype=float32), array([], dtype=float32), array([], dtype=float32), -30.1446991 , -47.48961639, -24.28571701, -59.33085632,  220.39312744,  20.73790359,  83.93949127,  66.30121613,   7.07375669,  10.14721012,  -10.8865633 ,  55.89609146, -12.89020824,  119.76635742, -47.3605957 ,   13.39617157,   34.92552948,  15,   7.22068501, -44.57110214,   42.75763321,  6, False,  0.28620061),\n",
       "       (6, array([ 28.44177246, -56.91559601,  33.16614532, -56.35861969,\n",
       "        44.68463516,  -7.48202801], dtype=float32), array([-77.40626526,  27.35497093,  53.65788269,  26.63551712,\n",
       "       -14.14289093, -34.91702271], dtype=float32), array([-249.8009491 ,  -83.38486481,  -35.81163406,   32.79572296,\n",
       "         17.63115501,  -16.43756294], dtype=float32), array([ 263.24673462,  105.52606964,   72.99871826,   71.04415131,\n",
       "         51.12100983,   40.03748703], dtype=float32), array([-1., -1., -1., -1., -1., -1.], dtype=float32), array([ True,  True,  True,  True,  True,  True], dtype=bool), 0, array([], dtype=float32), array([], dtype=float32), array([], dtype=float32), array([], dtype=float32), array([], dtype=int32), array([], dtype=float32), 0, array([], dtype=float32), array([], dtype=float32), array([], dtype=float32), array([], dtype=float32), array([], dtype=int32), array([], dtype=float32), 0, array([], dtype=float32), array([], dtype=float32), array([], dtype=float32), array([], dtype=float32), array([], dtype=float32),  -3.05776286,  17.73644257,   0.        ,   0.        ,    0.        ,   0.        ,   0.        ,   0.        ,   0.        ,   0.        ,    0.        ,   0.        ,   0.        ,    0.        ,   0.        ,    0.        ,    0.        ,   0,   0.        ,   0.        ,    0.        ,  3, False,  0.27002999),\n",
       "       (4, array([-16.00138855, -41.80726624,  29.1941433 ,  38.47055435], dtype=float32), array([-59.66587067,  21.09321976, -28.67432213,   7.80847073], dtype=float32), array([-49.96570206, -29.62834167,  38.02173615, -14.96393204], dtype=float32), array([ 79.99531555,  56.04853821,  56.24638748,  42.51010513], dtype=float32), array([-1.        , -1.        ,  1.70723951, -1.        ], dtype=float32), array([ True,  True,  True,  True], dtype=bool), 0, array([], dtype=float32), array([], dtype=float32), array([], dtype=float32), array([], dtype=float32), array([], dtype=int32), array([], dtype=float32), 0, array([], dtype=float32), array([], dtype=float32), array([], dtype=float32), array([], dtype=float32), array([], dtype=int32), array([], dtype=float32), 0, array([], dtype=float32), array([], dtype=float32), array([], dtype=float32), array([], dtype=float32), array([], dtype=float32), -13.46125984,   5.44226217, -12.39086437,  22.39970207,   85.69178009, -18.29978943, -57.43149948, -47.72479248,  59.78998184,  13.00851154,  -26.30075264,  28.60722542, -30.50980568,   35.85360718, -11.64190197,  -32.56383896, -263.4397583 , -13,  -6.770576  ,  36.39264679, -135.82580566,  6, False,  0.29352903),\n",
       "       ...,\n",
       "       (1, array([ 9.45587254], dtype=float32), array([ 56.32987595], dtype=float32), array([ 58.52116013], dtype=float32), array([ 83.46845245], dtype=float32), array([-1.], dtype=float32), array([ True], dtype=bool), 0, array([], dtype=float32), array([], dtype=float32), array([], dtype=float32), array([], dtype=float32), array([], dtype=int32), array([], dtype=float32), 2, array([ 123.97548676,  -41.90577698], dtype=float32), array([-20.59002304, -41.98944473], dtype=float32), array([ 25.7717514 ,  -1.04125142], dtype=float32), array([ 128.28894043,   59.33204651], dtype=float32), array([ 1, -1], dtype=int32), array([  1.47950327,  11.97175503], dtype=float32), 1, array([ 122.57876587], dtype=float32), array([-21.20843315], dtype=float32), array([ 25.54430962], dtype=float32), array([ 126.99552155], dtype=float32), array([ 3.75910282], dtype=float32), -73.85587311,  -4.27852106,   0.        ,   0.        ,    0.        ,   0.        ,   0.        ,   0.        ,   0.        ,   0.        ,    0.        ,   0.        ,   0.        ,    0.        ,   0.        ,    0.        ,    0.        ,   0,   0.        ,   0.        ,    0.        ,  4, False,  0.27138647),\n",
       "       (3, array([ 34.38261795, -40.7835083 ,  38.38739395], dtype=float32), array([-36.50298691,  -6.54035282,  -3.93633842], dtype=float32), array([-39.89178467, -50.6091423 , -69.5358429 ], dtype=float32), array([ 65.95163727,  65.82172394,  79.7787323 ], dtype=float32), array([-1., -1., -1.], dtype=float32), array([ True,  True,  True], dtype=bool), 0, array([], dtype=float32), array([], dtype=float32), array([], dtype=float32), array([], dtype=float32), array([], dtype=int32), array([], dtype=float32), 0, array([], dtype=float32), array([], dtype=float32), array([], dtype=float32), array([], dtype=float32), array([], dtype=int32), array([], dtype=float32), 0, array([], dtype=float32), array([], dtype=float32), array([], dtype=float32), array([], dtype=float32), array([], dtype=float32),  14.25508308,  50.85000992, -57.41909027,  -8.61177063,  -68.42054749, -25.27488518,  12.40928173,  20.68931198,  53.04928207,  -6.79531813, -100.73949432,  26.85243416, -53.96256638,  -23.28963089,  38.08544922,    4.27271748,  -61.93172455,  15, -31.4263649 ,  42.42398071, -140.16157532, 11, False,  0.22419348),\n",
       "       (3, array([  1.28875291,  54.24991226, -54.32022858], dtype=float32), array([-84.01944733, -25.61555099,  -8.0340786 ], dtype=float32), array([ 21.79267883,  59.1702919 ,  48.22095108], dtype=float32), array([ 87.86754608,  84.76728058,  73.52315521], dtype=float32), array([-1.        , -1.        ,  3.45734024], dtype=float32), array([ True,  True,  True], dtype=bool), 0, array([], dtype=float32), array([], dtype=float32), array([], dtype=float32), array([], dtype=float32), array([], dtype=int32), array([], dtype=float32), 1, array([ 10.35683537], dtype=float32), array([ 152.02658081], dtype=float32), array([-128.6199646], dtype=float32), array([ 199.4052124], dtype=float32), array([1], dtype=int32), array([ 3.53812528], dtype=float32), 1, array([ 12.24383163], dtype=float32), array([ 155.64831543], dtype=float32), array([-131.72909546], dtype=float32), array([ 204.27644348], dtype=float32), array([ 3.8334322], dtype=float32), -39.6864357 ,  -7.80921078, -64.75705719, -12.6721344 ,   52.86598587,  30.71007347, -14.85277843,  10.30566978,   1.36320496, -91.56234741,   25.71873665,  44.26504898, -22.72837067,   51.07799149,  10.75428677,  151.41537476, -129.31864929, -11, -15.81485939,  -3.38039279,   -6.43942213,  8, False,  0.29903701)],\n",
       "      dtype=[('NJet', '<i4'), ('Jet_Px', 'O'), ('Jet_Py', 'O'), ('Jet_Pz', 'O'), ('Jet_E', 'O'), ('Jet_btag', 'O'), ('Jet_ID', 'O'), ('NMuon', '<i4'), ('Muon_Px', 'O'), ('Muon_Py', 'O'), ('Muon_Pz', 'O'), ('Muon_E', 'O'), ('Muon_Charge', 'O'), ('Muon_Iso', 'O'), ('NElectron', '<i4'), ('Electron_Px', 'O'), ('Electron_Py', 'O'), ('Electron_Pz', 'O'), ('Electron_E', 'O'), ('Electron_Charge', 'O'), ('Electron_Iso', 'O'), ('NPhoton', '<i4'), ('Photon_Px', 'O'), ('Photon_Py', 'O'), ('Photon_Pz', 'O'), ('Photon_E', 'O'), ('Photon_Iso', 'O'), ('MET_px', '<f4'), ('MET_py', '<f4'), ('MChadronicBottom_px', '<f4'), ('MChadronicBottom_py', '<f4'), ('MChadronicBottom_pz', '<f4'), ('MCleptonicBottom_px', '<f4'), ('MCleptonicBottom_py', '<f4'), ('MCleptonicBottom_pz', '<f4'), ('MChadronicWDecayQuark_px', '<f4'), ('MChadronicWDecayQuark_py', '<f4'), ('MChadronicWDecayQuark_pz', '<f4'), ('MChadronicWDecayQuarkBar_px', '<f4'), ('MChadronicWDecayQuarkBar_py', '<f4'), ('MChadronicWDecayQuarkBar_pz', '<f4'), ('MClepton_px', '<f4'), ('MClepton_py', '<f4'), ('MClepton_pz', '<f4'), ('MCleptonPDGid', '<i4'), ('MCneutrino_px', '<f4'), ('MCneutrino_py', '<f4'), ('MCneutrino_pz', '<f4'), ('NPrimaryVertices', '<i4'), ('triggerIsoMu24', '?'), ('EventWeight', '<f4')])"
      ]
     },
     "execution_count": 5,
     "metadata": {},
     "output_type": "execute_result"
    }
   ],
   "source": [
    "# -- display your newly created object\n",
    "ttbar "
   ]
  },
  {
   "cell_type": "code",
   "execution_count": 6,
   "metadata": {},
   "outputs": [
    {
     "data": {
      "text/plain": [
       "numpy.ndarray"
      ]
     },
     "execution_count": 6,
     "metadata": {},
     "output_type": "execute_result"
    }
   ],
   "source": [
    "# -- what data type is it?\n",
    "type(ttbar) "
   ]
  },
  {
   "cell_type": "code",
   "execution_count": 7,
   "metadata": {},
   "outputs": [
    {
     "data": {
      "text/plain": [
       "(36941,)"
      ]
     },
     "execution_count": 7,
     "metadata": {},
     "output_type": "execute_result"
    }
   ],
   "source": [
    "# -- how many events are present?\n",
    "ttbar.shape"
   ]
  },
  {
   "cell_type": "code",
   "execution_count": 8,
   "metadata": {},
   "outputs": [
    {
     "data": {
      "text/plain": [
       "('NJet',\n",
       " 'Jet_Px',\n",
       " 'Jet_Py',\n",
       " 'Jet_Pz',\n",
       " 'Jet_E',\n",
       " 'Jet_btag',\n",
       " 'Jet_ID',\n",
       " 'NMuon',\n",
       " 'Muon_Px',\n",
       " 'Muon_Py',\n",
       " 'Muon_Pz',\n",
       " 'Muon_E',\n",
       " 'Muon_Charge',\n",
       " 'Muon_Iso',\n",
       " 'NElectron',\n",
       " 'Electron_Px',\n",
       " 'Electron_Py',\n",
       " 'Electron_Pz',\n",
       " 'Electron_E',\n",
       " 'Electron_Charge',\n",
       " 'Electron_Iso',\n",
       " 'NPhoton',\n",
       " 'Photon_Px',\n",
       " 'Photon_Py',\n",
       " 'Photon_Pz',\n",
       " 'Photon_E',\n",
       " 'Photon_Iso',\n",
       " 'MET_px',\n",
       " 'MET_py',\n",
       " 'MChadronicBottom_px',\n",
       " 'MChadronicBottom_py',\n",
       " 'MChadronicBottom_pz',\n",
       " 'MCleptonicBottom_px',\n",
       " 'MCleptonicBottom_py',\n",
       " 'MCleptonicBottom_pz',\n",
       " 'MChadronicWDecayQuark_px',\n",
       " 'MChadronicWDecayQuark_py',\n",
       " 'MChadronicWDecayQuark_pz',\n",
       " 'MChadronicWDecayQuarkBar_px',\n",
       " 'MChadronicWDecayQuarkBar_py',\n",
       " 'MChadronicWDecayQuarkBar_pz',\n",
       " 'MClepton_px',\n",
       " 'MClepton_py',\n",
       " 'MClepton_pz',\n",
       " 'MCleptonPDGid',\n",
       " 'MCneutrino_px',\n",
       " 'MCneutrino_py',\n",
       " 'MCneutrino_pz',\n",
       " 'NPrimaryVertices',\n",
       " 'triggerIsoMu24',\n",
       " 'EventWeight')"
      ]
     },
     "execution_count": 8,
     "metadata": {},
     "output_type": "execute_result"
    }
   ],
   "source": [
    "# -- what are the names of the branches?\n",
    "ttbar.dtype.names"
   ]
  },
  {
   "cell_type": "markdown",
   "metadata": {},
   "source": [
    "## Pandas Dataframes"
   ]
  },
  {
   "cell_type": "code",
   "execution_count": 9,
   "metadata": {
    "collapsed": true
   },
   "outputs": [],
   "source": [
    "import pandas as pd"
   ]
  },
  {
   "cell_type": "markdown",
   "metadata": {},
   "source": [
    "One way of manipulating your data (slicing, filtering, removing variables, creating new features, taking operations of branches) in a simple, visually appealing way is to use <a href=\"http://pandas.pydata.org/\">`pandas`</a> dataframes, a beatiful and efficient Python data structure library. \n",
    "Recommended for exploratory data analysis, probably not for high performance applications."
   ]
  },
  {
   "cell_type": "code",
   "execution_count": 10,
   "metadata": {
    "collapsed": true
   },
   "outputs": [],
   "source": [
    "# -- how to turn an ndarray into a pandas dataframe\n",
    "df = pd.DataFrame(ttbar)"
   ]
  },
  {
   "cell_type": "code",
   "execution_count": 11,
   "metadata": {
    "scrolled": false
   },
   "outputs": [
    {
     "data": {
      "text/html": [
       "<div>\n",
       "<table border=\"1\" class=\"dataframe\">\n",
       "  <thead>\n",
       "    <tr style=\"text-align: right;\">\n",
       "      <th></th>\n",
       "      <th>NJet</th>\n",
       "      <th>Jet_Px</th>\n",
       "      <th>Jet_Py</th>\n",
       "      <th>Jet_Pz</th>\n",
       "      <th>Jet_E</th>\n",
       "      <th>Jet_btag</th>\n",
       "      <th>Jet_ID</th>\n",
       "      <th>NMuon</th>\n",
       "      <th>Muon_Px</th>\n",
       "      <th>Muon_Py</th>\n",
       "      <th>...</th>\n",
       "      <th>MClepton_px</th>\n",
       "      <th>MClepton_py</th>\n",
       "      <th>MClepton_pz</th>\n",
       "      <th>MCleptonPDGid</th>\n",
       "      <th>MCneutrino_px</th>\n",
       "      <th>MCneutrino_py</th>\n",
       "      <th>MCneutrino_pz</th>\n",
       "      <th>NPrimaryVertices</th>\n",
       "      <th>triggerIsoMu24</th>\n",
       "      <th>EventWeight</th>\n",
       "    </tr>\n",
       "  </thead>\n",
       "  <tbody>\n",
       "    <tr>\n",
       "      <th>0</th>\n",
       "      <td>3</td>\n",
       "      <td>[14.5363, -22.5988, 47.9446]</td>\n",
       "      <td>[81.2174, -57.1286, -11.3546]</td>\n",
       "      <td>[69.8893, 214.74, 103.365]</td>\n",
       "      <td>[109.21, 223.634, 114.651]</td>\n",
       "      <td>[2.0461, 2.28739, -1.0]</td>\n",
       "      <td>[True, True, True]</td>\n",
       "      <td>0</td>\n",
       "      <td>[]</td>\n",
       "      <td>[]</td>\n",
       "      <td>...</td>\n",
       "      <td>-47.360596</td>\n",
       "      <td>13.396172</td>\n",
       "      <td>34.925529</td>\n",
       "      <td>15</td>\n",
       "      <td>7.220685</td>\n",
       "      <td>-44.571102</td>\n",
       "      <td>42.757633</td>\n",
       "      <td>6</td>\n",
       "      <td>False</td>\n",
       "      <td>0.286201</td>\n",
       "    </tr>\n",
       "    <tr>\n",
       "      <th>1</th>\n",
       "      <td>6</td>\n",
       "      <td>[28.4418, -56.9156, 33.1661, -56.3586, 44.6846...</td>\n",
       "      <td>[-77.4063, 27.355, 53.6579, 26.6355, -14.1429,...</td>\n",
       "      <td>[-249.801, -83.3849, -35.8116, 32.7957, 17.631...</td>\n",
       "      <td>[263.247, 105.526, 72.9987, 71.0442, 51.121, 4...</td>\n",
       "      <td>[-1.0, -1.0, -1.0, -1.0, -1.0, -1.0]</td>\n",
       "      <td>[True, True, True, True, True, True]</td>\n",
       "      <td>0</td>\n",
       "      <td>[]</td>\n",
       "      <td>[]</td>\n",
       "      <td>...</td>\n",
       "      <td>0.000000</td>\n",
       "      <td>0.000000</td>\n",
       "      <td>0.000000</td>\n",
       "      <td>0</td>\n",
       "      <td>0.000000</td>\n",
       "      <td>0.000000</td>\n",
       "      <td>0.000000</td>\n",
       "      <td>3</td>\n",
       "      <td>False</td>\n",
       "      <td>0.270030</td>\n",
       "    </tr>\n",
       "    <tr>\n",
       "      <th>2</th>\n",
       "      <td>4</td>\n",
       "      <td>[-16.0014, -41.8073, 29.1941, 38.4706]</td>\n",
       "      <td>[-59.6659, 21.0932, -28.6743, 7.80847]</td>\n",
       "      <td>[-49.9657, -29.6283, 38.0217, -14.9639]</td>\n",
       "      <td>[79.9953, 56.0485, 56.2464, 42.5101]</td>\n",
       "      <td>[-1.0, -1.0, 1.70724, -1.0]</td>\n",
       "      <td>[True, True, True, True]</td>\n",
       "      <td>0</td>\n",
       "      <td>[]</td>\n",
       "      <td>[]</td>\n",
       "      <td>...</td>\n",
       "      <td>-11.641902</td>\n",
       "      <td>-32.563839</td>\n",
       "      <td>-263.439758</td>\n",
       "      <td>-13</td>\n",
       "      <td>-6.770576</td>\n",
       "      <td>36.392647</td>\n",
       "      <td>-135.825806</td>\n",
       "      <td>6</td>\n",
       "      <td>False</td>\n",
       "      <td>0.293529</td>\n",
       "    </tr>\n",
       "    <tr>\n",
       "      <th>3</th>\n",
       "      <td>2</td>\n",
       "      <td>[-40.8037, 37.5208]</td>\n",
       "      <td>[34.4222, -35.3076]</td>\n",
       "      <td>[-47.5731, -67.0822]</td>\n",
       "      <td>[72.2569, 85.3261]</td>\n",
       "      <td>[3.63089, 3.02456]</td>\n",
       "      <td>[True, True]</td>\n",
       "      <td>1</td>\n",
       "      <td>[55.77]</td>\n",
       "      <td>[12.2147]</td>\n",
       "      <td>...</td>\n",
       "      <td>0.000000</td>\n",
       "      <td>0.000000</td>\n",
       "      <td>0.000000</td>\n",
       "      <td>0</td>\n",
       "      <td>0.000000</td>\n",
       "      <td>0.000000</td>\n",
       "      <td>0.000000</td>\n",
       "      <td>10</td>\n",
       "      <td>False</td>\n",
       "      <td>0.192474</td>\n",
       "    </tr>\n",
       "    <tr>\n",
       "      <th>4</th>\n",
       "      <td>3</td>\n",
       "      <td>[-67.6013, 70.1426, 27.3418]</td>\n",
       "      <td>[83.3236, -71.9012, 50.1827]</td>\n",
       "      <td>[78.5999, -8.07146, 22.9956]</td>\n",
       "      <td>[135.263, 101.793, 62.2964]</td>\n",
       "      <td>[-1.0, -1.0, 3.74993]</td>\n",
       "      <td>[True, True, True]</td>\n",
       "      <td>0</td>\n",
       "      <td>[]</td>\n",
       "      <td>[]</td>\n",
       "      <td>...</td>\n",
       "      <td>-49.375671</td>\n",
       "      <td>-30.740866</td>\n",
       "      <td>57.628201</td>\n",
       "      <td>11</td>\n",
       "      <td>2.897522</td>\n",
       "      <td>-13.882012</td>\n",
       "      <td>93.436157</td>\n",
       "      <td>16</td>\n",
       "      <td>False</td>\n",
       "      <td>0.036131</td>\n",
       "    </tr>\n",
       "  </tbody>\n",
       "</table>\n",
       "<p>5 rows × 51 columns</p>\n",
       "</div>"
      ],
      "text/plain": [
       "   NJet                                             Jet_Px  \\\n",
       "0     3                       [14.5363, -22.5988, 47.9446]   \n",
       "1     6  [28.4418, -56.9156, 33.1661, -56.3586, 44.6846...   \n",
       "2     4             [-16.0014, -41.8073, 29.1941, 38.4706]   \n",
       "3     2                                [-40.8037, 37.5208]   \n",
       "4     3                       [-67.6013, 70.1426, 27.3418]   \n",
       "\n",
       "                                              Jet_Py  \\\n",
       "0                      [81.2174, -57.1286, -11.3546]   \n",
       "1  [-77.4063, 27.355, 53.6579, 26.6355, -14.1429,...   \n",
       "2             [-59.6659, 21.0932, -28.6743, 7.80847]   \n",
       "3                                [34.4222, -35.3076]   \n",
       "4                       [83.3236, -71.9012, 50.1827]   \n",
       "\n",
       "                                              Jet_Pz  \\\n",
       "0                         [69.8893, 214.74, 103.365]   \n",
       "1  [-249.801, -83.3849, -35.8116, 32.7957, 17.631...   \n",
       "2            [-49.9657, -29.6283, 38.0217, -14.9639]   \n",
       "3                               [-47.5731, -67.0822]   \n",
       "4                       [78.5999, -8.07146, 22.9956]   \n",
       "\n",
       "                                               Jet_E  \\\n",
       "0                         [109.21, 223.634, 114.651]   \n",
       "1  [263.247, 105.526, 72.9987, 71.0442, 51.121, 4...   \n",
       "2               [79.9953, 56.0485, 56.2464, 42.5101]   \n",
       "3                                 [72.2569, 85.3261]   \n",
       "4                        [135.263, 101.793, 62.2964]   \n",
       "\n",
       "                               Jet_btag                                Jet_ID  \\\n",
       "0               [2.0461, 2.28739, -1.0]                    [True, True, True]   \n",
       "1  [-1.0, -1.0, -1.0, -1.0, -1.0, -1.0]  [True, True, True, True, True, True]   \n",
       "2           [-1.0, -1.0, 1.70724, -1.0]              [True, True, True, True]   \n",
       "3                    [3.63089, 3.02456]                          [True, True]   \n",
       "4                 [-1.0, -1.0, 3.74993]                    [True, True, True]   \n",
       "\n",
       "   NMuon  Muon_Px    Muon_Py     ...     MClepton_px MClepton_py MClepton_pz  \\\n",
       "0      0       []         []     ...      -47.360596   13.396172   34.925529   \n",
       "1      0       []         []     ...        0.000000    0.000000    0.000000   \n",
       "2      0       []         []     ...      -11.641902  -32.563839 -263.439758   \n",
       "3      1  [55.77]  [12.2147]     ...        0.000000    0.000000    0.000000   \n",
       "4      0       []         []     ...      -49.375671  -30.740866   57.628201   \n",
       "\n",
       "  MCleptonPDGid  MCneutrino_px MCneutrino_py MCneutrino_pz NPrimaryVertices  \\\n",
       "0            15       7.220685    -44.571102     42.757633                6   \n",
       "1             0       0.000000      0.000000      0.000000                3   \n",
       "2           -13      -6.770576     36.392647   -135.825806                6   \n",
       "3             0       0.000000      0.000000      0.000000               10   \n",
       "4            11       2.897522    -13.882012     93.436157               16   \n",
       "\n",
       "  triggerIsoMu24 EventWeight  \n",
       "0          False    0.286201  \n",
       "1          False    0.270030  \n",
       "2          False    0.293529  \n",
       "3          False    0.192474  \n",
       "4          False    0.036131  \n",
       "\n",
       "[5 rows x 51 columns]"
      ]
     },
     "execution_count": 11,
     "metadata": {},
     "output_type": "execute_result"
    }
   ],
   "source": [
    "# -- better way of displaying your data\n",
    "df.head() # print the first few entries"
   ]
  },
  {
   "cell_type": "code",
   "execution_count": 12,
   "metadata": {},
   "outputs": [
    {
     "data": {
      "text/html": [
       "<div>\n",
       "<table border=\"1\" class=\"dataframe\">\n",
       "  <thead>\n",
       "    <tr style=\"text-align: right;\">\n",
       "      <th></th>\n",
       "      <th>NJet</th>\n",
       "      <th>Jet_Px</th>\n",
       "      <th>Jet_Py</th>\n",
       "      <th>Jet_Pz</th>\n",
       "      <th>Jet_E</th>\n",
       "      <th>Jet_btag</th>\n",
       "      <th>Jet_ID</th>\n",
       "      <th>NMuon</th>\n",
       "      <th>Muon_Px</th>\n",
       "      <th>Muon_Py</th>\n",
       "      <th>...</th>\n",
       "      <th>MClepton_px</th>\n",
       "      <th>MClepton_py</th>\n",
       "      <th>MClepton_pz</th>\n",
       "      <th>MCleptonPDGid</th>\n",
       "      <th>MCneutrino_px</th>\n",
       "      <th>MCneutrino_py</th>\n",
       "      <th>MCneutrino_pz</th>\n",
       "      <th>NPrimaryVertices</th>\n",
       "      <th>triggerIsoMu24</th>\n",
       "      <th>EventWeight</th>\n",
       "    </tr>\n",
       "  </thead>\n",
       "  <tbody>\n",
       "    <tr>\n",
       "      <th>36936</th>\n",
       "      <td>4</td>\n",
       "      <td>[130.752, -88.6566, 52.0555, -38.6537]</td>\n",
       "      <td>[-25.4033, 73.8251, -74.2651, -30.6417]</td>\n",
       "      <td>[-120.235, -287.902, -124.879, -128.15]</td>\n",
       "      <td>[180.098, 310.715, 154.604, 137.425]</td>\n",
       "      <td>[-1.0, 2.17192, -1.0, -1.0]</td>\n",
       "      <td>[True, True, True, True]</td>\n",
       "      <td>1</td>\n",
       "      <td>[-44.8889]</td>\n",
       "      <td>[42.0714]</td>\n",
       "      <td>...</td>\n",
       "      <td>-42.990280</td>\n",
       "      <td>40.279636</td>\n",
       "      <td>-78.633194</td>\n",
       "      <td>-13</td>\n",
       "      <td>13.631536</td>\n",
       "      <td>-7.189492</td>\n",
       "      <td>9.089453</td>\n",
       "      <td>12</td>\n",
       "      <td>True</td>\n",
       "      <td>0.019638</td>\n",
       "    </tr>\n",
       "    <tr>\n",
       "      <th>36937</th>\n",
       "      <td>7</td>\n",
       "      <td>[103.327, -76.9673, -1.77329, -36.4286, 40.127...</td>\n",
       "      <td>[28.3643, 19.0497, -52.6751, -36.7993, -30.191...</td>\n",
       "      <td>[147.432, 428.396, 70.9709, 98.6322, 31.8465, ...</td>\n",
       "      <td>[183.936, 435.736, 88.666, 111.896, 59.8123, 1...</td>\n",
       "      <td>[1.61034, -1.0, -1.0, -1.0, -1.0, -1.0, -1.0]</td>\n",
       "      <td>[True, True, True, True, True, True, True]</td>\n",
       "      <td>0</td>\n",
       "      <td>[]</td>\n",
       "      <td>[]</td>\n",
       "      <td>...</td>\n",
       "      <td>0.000000</td>\n",
       "      <td>0.000000</td>\n",
       "      <td>0.000000</td>\n",
       "      <td>0</td>\n",
       "      <td>0.000000</td>\n",
       "      <td>0.000000</td>\n",
       "      <td>0.000000</td>\n",
       "      <td>5</td>\n",
       "      <td>False</td>\n",
       "      <td>0.293529</td>\n",
       "    </tr>\n",
       "    <tr>\n",
       "      <th>36938</th>\n",
       "      <td>1</td>\n",
       "      <td>[9.45587]</td>\n",
       "      <td>[56.3299]</td>\n",
       "      <td>[58.5212]</td>\n",
       "      <td>[83.4685]</td>\n",
       "      <td>[-1.0]</td>\n",
       "      <td>[True]</td>\n",
       "      <td>0</td>\n",
       "      <td>[]</td>\n",
       "      <td>[]</td>\n",
       "      <td>...</td>\n",
       "      <td>0.000000</td>\n",
       "      <td>0.000000</td>\n",
       "      <td>0.000000</td>\n",
       "      <td>0</td>\n",
       "      <td>0.000000</td>\n",
       "      <td>0.000000</td>\n",
       "      <td>0.000000</td>\n",
       "      <td>4</td>\n",
       "      <td>False</td>\n",
       "      <td>0.271386</td>\n",
       "    </tr>\n",
       "    <tr>\n",
       "      <th>36939</th>\n",
       "      <td>3</td>\n",
       "      <td>[34.3826, -40.7835, 38.3874]</td>\n",
       "      <td>[-36.503, -6.54035, -3.93634]</td>\n",
       "      <td>[-39.8918, -50.6091, -69.5358]</td>\n",
       "      <td>[65.9516, 65.8217, 79.7787]</td>\n",
       "      <td>[-1.0, -1.0, -1.0]</td>\n",
       "      <td>[True, True, True]</td>\n",
       "      <td>0</td>\n",
       "      <td>[]</td>\n",
       "      <td>[]</td>\n",
       "      <td>...</td>\n",
       "      <td>38.085449</td>\n",
       "      <td>4.272717</td>\n",
       "      <td>-61.931725</td>\n",
       "      <td>15</td>\n",
       "      <td>-31.426365</td>\n",
       "      <td>42.423981</td>\n",
       "      <td>-140.161575</td>\n",
       "      <td>11</td>\n",
       "      <td>False</td>\n",
       "      <td>0.224193</td>\n",
       "    </tr>\n",
       "    <tr>\n",
       "      <th>36940</th>\n",
       "      <td>3</td>\n",
       "      <td>[1.28875, 54.2499, -54.3202]</td>\n",
       "      <td>[-84.0194, -25.6156, -8.03408]</td>\n",
       "      <td>[21.7927, 59.1703, 48.221]</td>\n",
       "      <td>[87.8675, 84.7673, 73.5232]</td>\n",
       "      <td>[-1.0, -1.0, 3.45734]</td>\n",
       "      <td>[True, True, True]</td>\n",
       "      <td>0</td>\n",
       "      <td>[]</td>\n",
       "      <td>[]</td>\n",
       "      <td>...</td>\n",
       "      <td>10.754287</td>\n",
       "      <td>151.415375</td>\n",
       "      <td>-129.318649</td>\n",
       "      <td>-11</td>\n",
       "      <td>-15.814859</td>\n",
       "      <td>-3.380393</td>\n",
       "      <td>-6.439422</td>\n",
       "      <td>8</td>\n",
       "      <td>False</td>\n",
       "      <td>0.299037</td>\n",
       "    </tr>\n",
       "  </tbody>\n",
       "</table>\n",
       "<p>5 rows × 51 columns</p>\n",
       "</div>"
      ],
      "text/plain": [
       "       NJet                                             Jet_Px  \\\n",
       "36936     4             [130.752, -88.6566, 52.0555, -38.6537]   \n",
       "36937     7  [103.327, -76.9673, -1.77329, -36.4286, 40.127...   \n",
       "36938     1                                          [9.45587]   \n",
       "36939     3                       [34.3826, -40.7835, 38.3874]   \n",
       "36940     3                       [1.28875, 54.2499, -54.3202]   \n",
       "\n",
       "                                                  Jet_Py  \\\n",
       "36936            [-25.4033, 73.8251, -74.2651, -30.6417]   \n",
       "36937  [28.3643, 19.0497, -52.6751, -36.7993, -30.191...   \n",
       "36938                                          [56.3299]   \n",
       "36939                      [-36.503, -6.54035, -3.93634]   \n",
       "36940                     [-84.0194, -25.6156, -8.03408]   \n",
       "\n",
       "                                                  Jet_Pz  \\\n",
       "36936            [-120.235, -287.902, -124.879, -128.15]   \n",
       "36937  [147.432, 428.396, 70.9709, 98.6322, 31.8465, ...   \n",
       "36938                                          [58.5212]   \n",
       "36939                     [-39.8918, -50.6091, -69.5358]   \n",
       "36940                         [21.7927, 59.1703, 48.221]   \n",
       "\n",
       "                                                   Jet_E  \\\n",
       "36936               [180.098, 310.715, 154.604, 137.425]   \n",
       "36937  [183.936, 435.736, 88.666, 111.896, 59.8123, 1...   \n",
       "36938                                          [83.4685]   \n",
       "36939                        [65.9516, 65.8217, 79.7787]   \n",
       "36940                        [87.8675, 84.7673, 73.5232]   \n",
       "\n",
       "                                            Jet_btag  \\\n",
       "36936                    [-1.0, 2.17192, -1.0, -1.0]   \n",
       "36937  [1.61034, -1.0, -1.0, -1.0, -1.0, -1.0, -1.0]   \n",
       "36938                                         [-1.0]   \n",
       "36939                             [-1.0, -1.0, -1.0]   \n",
       "36940                          [-1.0, -1.0, 3.45734]   \n",
       "\n",
       "                                           Jet_ID  NMuon     Muon_Px  \\\n",
       "36936                    [True, True, True, True]      1  [-44.8889]   \n",
       "36937  [True, True, True, True, True, True, True]      0          []   \n",
       "36938                                      [True]      0          []   \n",
       "36939                          [True, True, True]      0          []   \n",
       "36940                          [True, True, True]      0          []   \n",
       "\n",
       "         Muon_Py     ...     MClepton_px MClepton_py MClepton_pz  \\\n",
       "36936  [42.0714]     ...      -42.990280   40.279636  -78.633194   \n",
       "36937         []     ...        0.000000    0.000000    0.000000   \n",
       "36938         []     ...        0.000000    0.000000    0.000000   \n",
       "36939         []     ...       38.085449    4.272717  -61.931725   \n",
       "36940         []     ...       10.754287  151.415375 -129.318649   \n",
       "\n",
       "      MCleptonPDGid  MCneutrino_px MCneutrino_py MCneutrino_pz  \\\n",
       "36936           -13      13.631536     -7.189492      9.089453   \n",
       "36937             0       0.000000      0.000000      0.000000   \n",
       "36938             0       0.000000      0.000000      0.000000   \n",
       "36939            15     -31.426365     42.423981   -140.161575   \n",
       "36940           -11     -15.814859     -3.380393     -6.439422   \n",
       "\n",
       "      NPrimaryVertices triggerIsoMu24 EventWeight  \n",
       "36936               12           True    0.019638  \n",
       "36937                5          False    0.293529  \n",
       "36938                4          False    0.271386  \n",
       "36939               11          False    0.224193  \n",
       "36940                8          False    0.299037  \n",
       "\n",
       "[5 rows x 51 columns]"
      ]
     },
     "execution_count": 12,
     "metadata": {},
     "output_type": "execute_result"
    }
   ],
   "source": [
    "# -- ... or the last few\n",
    "df.tail()"
   ]
  },
  {
   "cell_type": "code",
   "execution_count": 13,
   "metadata": {},
   "outputs": [
    {
     "data": {
      "text/plain": [
       "(36941, 51)"
      ]
     },
     "execution_count": 13,
     "metadata": {},
     "output_type": "execute_result"
    }
   ],
   "source": [
    "# -- check the shape: it should be [nb_events, nb_variables]\n",
    "df.shape"
   ]
  },
  {
   "cell_type": "code",
   "execution_count": 14,
   "metadata": {},
   "outputs": [
    {
     "name": "stdout",
     "output_type": "stream",
     "text": [
      "<class 'pandas.core.frame.DataFrame'>\n",
      "RangeIndex: 36941 entries, 0 to 36940\n",
      "Data columns (total 51 columns):\n",
      "NJet                           36941 non-null int32\n",
      "Jet_Px                         36941 non-null object\n",
      "Jet_Py                         36941 non-null object\n",
      "Jet_Pz                         36941 non-null object\n",
      "Jet_E                          36941 non-null object\n",
      "Jet_btag                       36941 non-null object\n",
      "Jet_ID                         36941 non-null object\n",
      "NMuon                          36941 non-null int32\n",
      "Muon_Px                        36941 non-null object\n",
      "Muon_Py                        36941 non-null object\n",
      "Muon_Pz                        36941 non-null object\n",
      "Muon_E                         36941 non-null object\n",
      "Muon_Charge                    36941 non-null object\n",
      "Muon_Iso                       36941 non-null object\n",
      "NElectron                      36941 non-null int32\n",
      "Electron_Px                    36941 non-null object\n",
      "Electron_Py                    36941 non-null object\n",
      "Electron_Pz                    36941 non-null object\n",
      "Electron_E                     36941 non-null object\n",
      "Electron_Charge                36941 non-null object\n",
      "Electron_Iso                   36941 non-null object\n",
      "NPhoton                        36941 non-null int32\n",
      "Photon_Px                      36941 non-null object\n",
      "Photon_Py                      36941 non-null object\n",
      "Photon_Pz                      36941 non-null object\n",
      "Photon_E                       36941 non-null object\n",
      "Photon_Iso                     36941 non-null object\n",
      "MET_px                         36941 non-null float32\n",
      "MET_py                         36941 non-null float32\n",
      "MChadronicBottom_px            36941 non-null float32\n",
      "MChadronicBottom_py            36941 non-null float32\n",
      "MChadronicBottom_pz            36941 non-null float32\n",
      "MCleptonicBottom_px            36941 non-null float32\n",
      "MCleptonicBottom_py            36941 non-null float32\n",
      "MCleptonicBottom_pz            36941 non-null float32\n",
      "MChadronicWDecayQuark_px       36941 non-null float32\n",
      "MChadronicWDecayQuark_py       36941 non-null float32\n",
      "MChadronicWDecayQuark_pz       36941 non-null float32\n",
      "MChadronicWDecayQuarkBar_px    36941 non-null float32\n",
      "MChadronicWDecayQuarkBar_py    36941 non-null float32\n",
      "MChadronicWDecayQuarkBar_pz    36941 non-null float32\n",
      "MClepton_px                    36941 non-null float32\n",
      "MClepton_py                    36941 non-null float32\n",
      "MClepton_pz                    36941 non-null float32\n",
      "MCleptonPDGid                  36941 non-null int32\n",
      "MCneutrino_px                  36941 non-null float32\n",
      "MCneutrino_py                  36941 non-null float32\n",
      "MCneutrino_pz                  36941 non-null float32\n",
      "NPrimaryVertices               36941 non-null int32\n",
      "triggerIsoMu24                 36941 non-null bool\n",
      "EventWeight                    36941 non-null float32\n",
      "dtypes: bool(1), float32(21), int32(6), object(23)\n",
      "memory usage: 10.3+ MB\n"
     ]
    }
   ],
   "source": [
    "df.info()"
   ]
  },
  {
   "cell_type": "code",
   "execution_count": 15,
   "metadata": {},
   "outputs": [
    {
     "data": {
      "text/plain": [
       "Index([u'NJet', u'Jet_Px', u'Jet_Py', u'Jet_Pz', u'Jet_E', u'Jet_btag',\n",
       "       u'Jet_ID', u'NMuon', u'Muon_Px', u'Muon_Py', u'Muon_Pz', u'Muon_E',\n",
       "       u'Muon_Charge', u'Muon_Iso', u'NElectron', u'Electron_Px',\n",
       "       u'Electron_Py', u'Electron_Pz', u'Electron_E', u'Electron_Charge',\n",
       "       u'Electron_Iso', u'NPhoton', u'Photon_Px', u'Photon_Py', u'Photon_Pz',\n",
       "       u'Photon_E', u'Photon_Iso', u'MET_px', u'MET_py',\n",
       "       u'MChadronicBottom_px', u'MChadronicBottom_py', u'MChadronicBottom_pz',\n",
       "       u'MCleptonicBottom_px', u'MCleptonicBottom_py', u'MCleptonicBottom_pz',\n",
       "       u'MChadronicWDecayQuark_px', u'MChadronicWDecayQuark_py',\n",
       "       u'MChadronicWDecayQuark_pz', u'MChadronicWDecayQuarkBar_px',\n",
       "       u'MChadronicWDecayQuarkBar_py', u'MChadronicWDecayQuarkBar_pz',\n",
       "       u'MClepton_px', u'MClepton_py', u'MClepton_pz', u'MCleptonPDGid',\n",
       "       u'MCneutrino_px', u'MCneutrino_py', u'MCneutrino_pz',\n",
       "       u'NPrimaryVertices', u'triggerIsoMu24', u'EventWeight'],\n",
       "      dtype='object')"
      ]
     },
     "execution_count": 15,
     "metadata": {},
     "output_type": "execute_result"
    }
   ],
   "source": [
    "df.keys() #df.columns"
   ]
  },
  {
   "cell_type": "markdown",
   "metadata": {},
   "source": [
    "To summarize, if you want to go directly from `.root` files to pandas dataframes, you can do so in 3 lines of Python code. I like to use this function below in all my application whenever I load in data from a `ROOT` file. Feel free to copy it and use it!"
   ]
  },
  {
   "cell_type": "code",
   "execution_count": 16,
   "metadata": {
    "collapsed": true
   },
   "outputs": [],
   "source": [
    "def root2pandas(files_path, tree_name, **kwargs):\n",
    "    '''\n",
    "    Args:\n",
    "    -----\n",
    "        files_path: a string like './data/*.root', for example\n",
    "        tree_name: a string like 'Collection_Tree' corresponding to the name of the folder inside the root \n",
    "                   file that we want to open\n",
    "        kwargs: arguments taken by root2array, such as branches to consider, start, stop, step, etc\n",
    "    Returns:\n",
    "    --------    \n",
    "        output_panda: a pandas dataframe like allbkg_df in which all the info from the root file will be stored\n",
    "    \n",
    "    Note:\n",
    "    -----\n",
    "        if you are working with .root files that contain different branches, you might have to mask your data\n",
    "        in that case, return pd.DataFrame(ss.data)\n",
    "    '''\n",
    "    # -- create list of .root files to process\n",
    "    files = glob.glob(files_path)\n",
    "    \n",
    "    # -- process ntuples into rec arrays\n",
    "    ss = stack_arrays([root2array(fpath, tree_name, **kwargs).view(np.recarray) for fpath in files])\n",
    "\n",
    "    try:\n",
    "        return pd.DataFrame(ss)\n",
    "    except Exception:\n",
    "        return pd.DataFrame(ss.data)"
   ]
  },
  {
   "cell_type": "code",
   "execution_count": 17,
   "metadata": {
    "collapsed": true
   },
   "outputs": [],
   "source": [
    "# -- usage of root2pandas\n",
    "singletop = root2pandas('./files/single_top.root', 'events')"
   ]
  },
  {
   "cell_type": "markdown",
   "metadata": {},
   "source": [
    "We just turned a HEP-specific `ROOT` file into a standard data format that can be used by any ML expert. You can now save your data out to widely accepted data formats such as `HDF5` or even `CSV`, share it with your collaborators from the ML community without them having to learn how to use the ROOT library or other CERN-specific analysis tools."
   ]
  },
  {
   "cell_type": "code",
   "execution_count": 28,
   "metadata": {},
   "outputs": [
    {
     "name": "stderr",
     "output_type": "stream",
     "text": [
      "/Users/mp744/venvs/keras2tf1/lib/python2.7/site-packages/ipykernel_launcher.py:3: PerformanceWarning: \n",
      "your performance may suffer as PyTables will pickle object types that it cannot\n",
      "map directly to c-types [inferred_type->mixed,key->block3_values] [items->['Jet_Px', 'Jet_Py', 'Jet_Pz', 'Jet_E', 'Jet_btag', 'Jet_ID', 'Muon_Px', 'Muon_Py', 'Muon_Pz', 'Muon_E', 'Muon_Charge', 'Muon_Iso', 'Electron_Px', 'Electron_Py', 'Electron_Pz', 'Electron_E', 'Electron_Charge', 'Electron_Iso', 'Photon_Px', 'Photon_Py', 'Photon_Pz', 'Photon_E', 'Photon_Iso']]\n",
      "\n",
      "  This is separate from the ipykernel package so we can avoid doing imports until\n"
     ]
    }
   ],
   "source": [
    "# -- save a pandas df to hdf5 (better to first convert it back to ndarray, to be fair)\n",
    "import deepdish.io as io\n",
    "io.save('ttbar.h5', df)"
   ]
  },
  {
   "cell_type": "code",
   "execution_count": 29,
   "metadata": {},
   "outputs": [
    {
     "name": "stderr",
     "output_type": "stream",
     "text": [
      "/Users/mp744/venvs/keras2tf1/lib/python2.7/site-packages/pandas/core/generic.py:1138: PerformanceWarning: \n",
      "your performance may suffer as PyTables will pickle object types that it cannot\n",
      "map directly to c-types [inferred_type->mixed,key->block3_values] [items->['Jet_Px', 'Jet_Py', 'Jet_Pz', 'Jet_E', 'Jet_btag', 'Jet_ID', 'Muon_Px', 'Muon_Py', 'Muon_Pz', 'Muon_E', 'Muon_Charge', 'Muon_Iso', 'Electron_Px', 'Electron_Py', 'Electron_Pz', 'Electron_E', 'Electron_Charge', 'Electron_Iso', 'Photon_Px', 'Photon_Py', 'Photon_Pz', 'Photon_E', 'Photon_Iso']]\n",
      "\n",
      "  return pytables.to_hdf(path_or_buf, key, self, **kwargs)\n"
     ]
    }
   ],
   "source": [
    "singletop.to_hdf('try.h5', 'branches')"
   ]
  },
  {
   "cell_type": "code",
   "execution_count": 30,
   "metadata": {},
   "outputs": [
    {
     "data": {
      "text/html": [
       "<div>\n",
       "<table border=\"1\" class=\"dataframe\">\n",
       "  <thead>\n",
       "    <tr style=\"text-align: right;\">\n",
       "      <th></th>\n",
       "      <th>NJet</th>\n",
       "      <th>Jet_Px</th>\n",
       "      <th>Jet_Py</th>\n",
       "      <th>Jet_Pz</th>\n",
       "      <th>Jet_E</th>\n",
       "      <th>Jet_btag</th>\n",
       "      <th>Jet_ID</th>\n",
       "      <th>NMuon</th>\n",
       "      <th>Muon_Px</th>\n",
       "      <th>Muon_Py</th>\n",
       "      <th>...</th>\n",
       "      <th>MClepton_px</th>\n",
       "      <th>MClepton_py</th>\n",
       "      <th>MClepton_pz</th>\n",
       "      <th>MCleptonPDGid</th>\n",
       "      <th>MCneutrino_px</th>\n",
       "      <th>MCneutrino_py</th>\n",
       "      <th>MCneutrino_pz</th>\n",
       "      <th>NPrimaryVertices</th>\n",
       "      <th>triggerIsoMu24</th>\n",
       "      <th>EventWeight</th>\n",
       "    </tr>\n",
       "  </thead>\n",
       "  <tbody>\n",
       "    <tr>\n",
       "      <th>0</th>\n",
       "      <td>3</td>\n",
       "      <td>[14.5363, -22.5988, 47.9446]</td>\n",
       "      <td>[81.2174, -57.1286, -11.3546]</td>\n",
       "      <td>[69.8893, 214.74, 103.365]</td>\n",
       "      <td>[109.21, 223.634, 114.651]</td>\n",
       "      <td>[2.0461, 2.28739, -1.0]</td>\n",
       "      <td>[True, True, True]</td>\n",
       "      <td>0</td>\n",
       "      <td>[]</td>\n",
       "      <td>[]</td>\n",
       "      <td>...</td>\n",
       "      <td>-47.360596</td>\n",
       "      <td>13.396172</td>\n",
       "      <td>34.925529</td>\n",
       "      <td>15</td>\n",
       "      <td>7.220685</td>\n",
       "      <td>-44.571102</td>\n",
       "      <td>42.757633</td>\n",
       "      <td>6</td>\n",
       "      <td>False</td>\n",
       "      <td>0.286201</td>\n",
       "    </tr>\n",
       "    <tr>\n",
       "      <th>1</th>\n",
       "      <td>6</td>\n",
       "      <td>[28.4418, -56.9156, 33.1661, -56.3586, 44.6846...</td>\n",
       "      <td>[-77.4063, 27.355, 53.6579, 26.6355, -14.1429,...</td>\n",
       "      <td>[-249.801, -83.3849, -35.8116, 32.7957, 17.631...</td>\n",
       "      <td>[263.247, 105.526, 72.9987, 71.0442, 51.121, 4...</td>\n",
       "      <td>[-1.0, -1.0, -1.0, -1.0, -1.0, -1.0]</td>\n",
       "      <td>[True, True, True, True, True, True]</td>\n",
       "      <td>0</td>\n",
       "      <td>[]</td>\n",
       "      <td>[]</td>\n",
       "      <td>...</td>\n",
       "      <td>0.000000</td>\n",
       "      <td>0.000000</td>\n",
       "      <td>0.000000</td>\n",
       "      <td>0</td>\n",
       "      <td>0.000000</td>\n",
       "      <td>0.000000</td>\n",
       "      <td>0.000000</td>\n",
       "      <td>3</td>\n",
       "      <td>False</td>\n",
       "      <td>0.270030</td>\n",
       "    </tr>\n",
       "    <tr>\n",
       "      <th>2</th>\n",
       "      <td>4</td>\n",
       "      <td>[-16.0014, -41.8073, 29.1941, 38.4706]</td>\n",
       "      <td>[-59.6659, 21.0932, -28.6743, 7.80847]</td>\n",
       "      <td>[-49.9657, -29.6283, 38.0217, -14.9639]</td>\n",
       "      <td>[79.9953, 56.0485, 56.2464, 42.5101]</td>\n",
       "      <td>[-1.0, -1.0, 1.70724, -1.0]</td>\n",
       "      <td>[True, True, True, True]</td>\n",
       "      <td>0</td>\n",
       "      <td>[]</td>\n",
       "      <td>[]</td>\n",
       "      <td>...</td>\n",
       "      <td>-11.641902</td>\n",
       "      <td>-32.563839</td>\n",
       "      <td>-263.439758</td>\n",
       "      <td>-13</td>\n",
       "      <td>-6.770576</td>\n",
       "      <td>36.392647</td>\n",
       "      <td>-135.825806</td>\n",
       "      <td>6</td>\n",
       "      <td>False</td>\n",
       "      <td>0.293529</td>\n",
       "    </tr>\n",
       "    <tr>\n",
       "      <th>3</th>\n",
       "      <td>2</td>\n",
       "      <td>[-40.8037, 37.5208]</td>\n",
       "      <td>[34.4222, -35.3076]</td>\n",
       "      <td>[-47.5731, -67.0822]</td>\n",
       "      <td>[72.2569, 85.3261]</td>\n",
       "      <td>[3.63089, 3.02456]</td>\n",
       "      <td>[True, True]</td>\n",
       "      <td>1</td>\n",
       "      <td>[55.77]</td>\n",
       "      <td>[12.2147]</td>\n",
       "      <td>...</td>\n",
       "      <td>0.000000</td>\n",
       "      <td>0.000000</td>\n",
       "      <td>0.000000</td>\n",
       "      <td>0</td>\n",
       "      <td>0.000000</td>\n",
       "      <td>0.000000</td>\n",
       "      <td>0.000000</td>\n",
       "      <td>10</td>\n",
       "      <td>False</td>\n",
       "      <td>0.192474</td>\n",
       "    </tr>\n",
       "    <tr>\n",
       "      <th>4</th>\n",
       "      <td>3</td>\n",
       "      <td>[-67.6013, 70.1426, 27.3418]</td>\n",
       "      <td>[83.3236, -71.9012, 50.1827]</td>\n",
       "      <td>[78.5999, -8.07146, 22.9956]</td>\n",
       "      <td>[135.263, 101.793, 62.2964]</td>\n",
       "      <td>[-1.0, -1.0, 3.74993]</td>\n",
       "      <td>[True, True, True]</td>\n",
       "      <td>0</td>\n",
       "      <td>[]</td>\n",
       "      <td>[]</td>\n",
       "      <td>...</td>\n",
       "      <td>-49.375671</td>\n",
       "      <td>-30.740866</td>\n",
       "      <td>57.628201</td>\n",
       "      <td>11</td>\n",
       "      <td>2.897522</td>\n",
       "      <td>-13.882012</td>\n",
       "      <td>93.436157</td>\n",
       "      <td>16</td>\n",
       "      <td>False</td>\n",
       "      <td>0.036131</td>\n",
       "    </tr>\n",
       "  </tbody>\n",
       "</table>\n",
       "<p>5 rows × 51 columns</p>\n",
       "</div>"
      ],
      "text/plain": [
       "   NJet                                             Jet_Px  \\\n",
       "0     3                       [14.5363, -22.5988, 47.9446]   \n",
       "1     6  [28.4418, -56.9156, 33.1661, -56.3586, 44.6846...   \n",
       "2     4             [-16.0014, -41.8073, 29.1941, 38.4706]   \n",
       "3     2                                [-40.8037, 37.5208]   \n",
       "4     3                       [-67.6013, 70.1426, 27.3418]   \n",
       "\n",
       "                                              Jet_Py  \\\n",
       "0                      [81.2174, -57.1286, -11.3546]   \n",
       "1  [-77.4063, 27.355, 53.6579, 26.6355, -14.1429,...   \n",
       "2             [-59.6659, 21.0932, -28.6743, 7.80847]   \n",
       "3                                [34.4222, -35.3076]   \n",
       "4                       [83.3236, -71.9012, 50.1827]   \n",
       "\n",
       "                                              Jet_Pz  \\\n",
       "0                         [69.8893, 214.74, 103.365]   \n",
       "1  [-249.801, -83.3849, -35.8116, 32.7957, 17.631...   \n",
       "2            [-49.9657, -29.6283, 38.0217, -14.9639]   \n",
       "3                               [-47.5731, -67.0822]   \n",
       "4                       [78.5999, -8.07146, 22.9956]   \n",
       "\n",
       "                                               Jet_E  \\\n",
       "0                         [109.21, 223.634, 114.651]   \n",
       "1  [263.247, 105.526, 72.9987, 71.0442, 51.121, 4...   \n",
       "2               [79.9953, 56.0485, 56.2464, 42.5101]   \n",
       "3                                 [72.2569, 85.3261]   \n",
       "4                        [135.263, 101.793, 62.2964]   \n",
       "\n",
       "                               Jet_btag                                Jet_ID  \\\n",
       "0               [2.0461, 2.28739, -1.0]                    [True, True, True]   \n",
       "1  [-1.0, -1.0, -1.0, -1.0, -1.0, -1.0]  [True, True, True, True, True, True]   \n",
       "2           [-1.0, -1.0, 1.70724, -1.0]              [True, True, True, True]   \n",
       "3                    [3.63089, 3.02456]                          [True, True]   \n",
       "4                 [-1.0, -1.0, 3.74993]                    [True, True, True]   \n",
       "\n",
       "   NMuon  Muon_Px    Muon_Py     ...     MClepton_px MClepton_py MClepton_pz  \\\n",
       "0      0       []         []     ...      -47.360596   13.396172   34.925529   \n",
       "1      0       []         []     ...        0.000000    0.000000    0.000000   \n",
       "2      0       []         []     ...      -11.641902  -32.563839 -263.439758   \n",
       "3      1  [55.77]  [12.2147]     ...        0.000000    0.000000    0.000000   \n",
       "4      0       []         []     ...      -49.375671  -30.740866   57.628201   \n",
       "\n",
       "  MCleptonPDGid  MCneutrino_px MCneutrino_py MCneutrino_pz NPrimaryVertices  \\\n",
       "0            15       7.220685    -44.571102     42.757633                6   \n",
       "1             0       0.000000      0.000000      0.000000                3   \n",
       "2           -13      -6.770576     36.392647   -135.825806                6   \n",
       "3             0       0.000000      0.000000      0.000000               10   \n",
       "4            11       2.897522    -13.882012     93.436157               16   \n",
       "\n",
       "  triggerIsoMu24 EventWeight  \n",
       "0          False    0.286201  \n",
       "1          False    0.270030  \n",
       "2          False    0.293529  \n",
       "3          False    0.192474  \n",
       "4          False    0.036131  \n",
       "\n",
       "[5 rows x 51 columns]"
      ]
     },
     "execution_count": 30,
     "metadata": {},
     "output_type": "execute_result"
    }
   ],
   "source": [
    "# -- let's load it back in to make sure it actually worked!\n",
    "new_df = io.load('ttbar.h5')\n",
    "new_df.head()"
   ]
  },
  {
   "cell_type": "code",
   "execution_count": 31,
   "metadata": {},
   "outputs": [
    {
     "data": {
      "text/plain": [
       "(36941, 51)"
      ]
     },
     "execution_count": 31,
     "metadata": {},
     "output_type": "execute_result"
    }
   ],
   "source": [
    "# -- check the shape again -- nice check to run every time you create a df\n",
    "new_df.shape"
   ]
  },
  {
   "cell_type": "markdown",
   "metadata": {},
   "source": [
    "---"
   ]
  },
  {
   "cell_type": "markdown",
   "metadata": {},
   "source": [
    "Now, let's create a new dataframe that contains only jet-related branches by slicing our pre-existing ttbar dataframe"
   ]
  },
  {
   "cell_type": "code",
   "execution_count": 19,
   "metadata": {},
   "outputs": [
    {
     "data": {
      "text/html": [
       "<div>\n",
       "<table border=\"1\" class=\"dataframe\">\n",
       "  <thead>\n",
       "    <tr style=\"text-align: right;\">\n",
       "      <th></th>\n",
       "      <th>Jet_Px</th>\n",
       "      <th>Jet_Py</th>\n",
       "      <th>Jet_Pz</th>\n",
       "      <th>Jet_E</th>\n",
       "      <th>Jet_btag</th>\n",
       "      <th>Jet_ID</th>\n",
       "    </tr>\n",
       "  </thead>\n",
       "  <tbody>\n",
       "    <tr>\n",
       "      <th>0</th>\n",
       "      <td>[14.5363, -22.5988, 47.9446]</td>\n",
       "      <td>[81.2174, -57.1286, -11.3546]</td>\n",
       "      <td>[69.8893, 214.74, 103.365]</td>\n",
       "      <td>[109.21, 223.634, 114.651]</td>\n",
       "      <td>[2.0461, 2.28739, -1.0]</td>\n",
       "      <td>[True, True, True]</td>\n",
       "    </tr>\n",
       "    <tr>\n",
       "      <th>1</th>\n",
       "      <td>[28.4418, -56.9156, 33.1661, -56.3586, 44.6846...</td>\n",
       "      <td>[-77.4063, 27.355, 53.6579, 26.6355, -14.1429,...</td>\n",
       "      <td>[-249.801, -83.3849, -35.8116, 32.7957, 17.631...</td>\n",
       "      <td>[263.247, 105.526, 72.9987, 71.0442, 51.121, 4...</td>\n",
       "      <td>[-1.0, -1.0, -1.0, -1.0, -1.0, -1.0]</td>\n",
       "      <td>[True, True, True, True, True, True]</td>\n",
       "    </tr>\n",
       "    <tr>\n",
       "      <th>2</th>\n",
       "      <td>[-16.0014, -41.8073, 29.1941, 38.4706]</td>\n",
       "      <td>[-59.6659, 21.0932, -28.6743, 7.80847]</td>\n",
       "      <td>[-49.9657, -29.6283, 38.0217, -14.9639]</td>\n",
       "      <td>[79.9953, 56.0485, 56.2464, 42.5101]</td>\n",
       "      <td>[-1.0, -1.0, 1.70724, -1.0]</td>\n",
       "      <td>[True, True, True, True]</td>\n",
       "    </tr>\n",
       "    <tr>\n",
       "      <th>3</th>\n",
       "      <td>[-40.8037, 37.5208]</td>\n",
       "      <td>[34.4222, -35.3076]</td>\n",
       "      <td>[-47.5731, -67.0822]</td>\n",
       "      <td>[72.2569, 85.3261]</td>\n",
       "      <td>[3.63089, 3.02456]</td>\n",
       "      <td>[True, True]</td>\n",
       "    </tr>\n",
       "    <tr>\n",
       "      <th>4</th>\n",
       "      <td>[-67.6013, 70.1426, 27.3418]</td>\n",
       "      <td>[83.3236, -71.9012, 50.1827]</td>\n",
       "      <td>[78.5999, -8.07146, 22.9956]</td>\n",
       "      <td>[135.263, 101.793, 62.2964]</td>\n",
       "      <td>[-1.0, -1.0, 3.74993]</td>\n",
       "      <td>[True, True, True]</td>\n",
       "    </tr>\n",
       "  </tbody>\n",
       "</table>\n",
       "</div>"
      ],
      "text/plain": [
       "                                              Jet_Px  \\\n",
       "0                       [14.5363, -22.5988, 47.9446]   \n",
       "1  [28.4418, -56.9156, 33.1661, -56.3586, 44.6846...   \n",
       "2             [-16.0014, -41.8073, 29.1941, 38.4706]   \n",
       "3                                [-40.8037, 37.5208]   \n",
       "4                       [-67.6013, 70.1426, 27.3418]   \n",
       "\n",
       "                                              Jet_Py  \\\n",
       "0                      [81.2174, -57.1286, -11.3546]   \n",
       "1  [-77.4063, 27.355, 53.6579, 26.6355, -14.1429,...   \n",
       "2             [-59.6659, 21.0932, -28.6743, 7.80847]   \n",
       "3                                [34.4222, -35.3076]   \n",
       "4                       [83.3236, -71.9012, 50.1827]   \n",
       "\n",
       "                                              Jet_Pz  \\\n",
       "0                         [69.8893, 214.74, 103.365]   \n",
       "1  [-249.801, -83.3849, -35.8116, 32.7957, 17.631...   \n",
       "2            [-49.9657, -29.6283, 38.0217, -14.9639]   \n",
       "3                               [-47.5731, -67.0822]   \n",
       "4                       [78.5999, -8.07146, 22.9956]   \n",
       "\n",
       "                                               Jet_E  \\\n",
       "0                         [109.21, 223.634, 114.651]   \n",
       "1  [263.247, 105.526, 72.9987, 71.0442, 51.121, 4...   \n",
       "2               [79.9953, 56.0485, 56.2464, 42.5101]   \n",
       "3                                 [72.2569, 85.3261]   \n",
       "4                        [135.263, 101.793, 62.2964]   \n",
       "\n",
       "                               Jet_btag                                Jet_ID  \n",
       "0               [2.0461, 2.28739, -1.0]                    [True, True, True]  \n",
       "1  [-1.0, -1.0, -1.0, -1.0, -1.0, -1.0]  [True, True, True, True, True, True]  \n",
       "2           [-1.0, -1.0, 1.70724, -1.0]              [True, True, True, True]  \n",
       "3                    [3.63089, 3.02456]                          [True, True]  \n",
       "4                 [-1.0, -1.0, 3.74993]                    [True, True, True]  "
      ]
     },
     "execution_count": 19,
     "metadata": {},
     "output_type": "execute_result"
    }
   ],
   "source": [
    "# slice the dataframe\n",
    "jet_df = df[[key for key in df.keys() if key.startswith('Jet')]]\n",
    "jet_df.head()"
   ]
  },
  {
   "cell_type": "markdown",
   "metadata": {},
   "source": [
    "This would be useful if you wanted to classify your events only by using the properties of jets in each event. \n",
    "\n",
    "What if your application involved classifying jets, instead of events? In this case, you might want to turn your dataset from event-flat to jet-flat, i.e. a dataframe in which every row represents a jet and every column is a property of this jet. This is extremely easy to do using `pandas` and `numpy`:"
   ]
  },
  {
   "cell_type": "code",
   "execution_count": 20,
   "metadata": {
    "collapsed": true
   },
   "outputs": [],
   "source": [
    "def flatten(column):\n",
    "    '''\n",
    "    Args:\n",
    "    -----\n",
    "        column: a column of a pandas df whose entries are lists (or regular entries -- in which case nothing is done)\n",
    "                e.g.: my_df['some_variable'] \n",
    "\n",
    "    Returns:\n",
    "    --------    \n",
    "        flattened out version of the column. \n",
    "\n",
    "        For example, it will turn:\n",
    "        [1791, 2719, 1891]\n",
    "        [1717, 1, 0, 171, 9181, 537, 12]\n",
    "        [82, 11]\n",
    "        ...\n",
    "        into:\n",
    "        1791, 2719, 1891, 1717, 1, 0, 171, 9181, 537, 12, 82, 11, ...\n",
    "    '''\n",
    "    try:\n",
    "        return np.array([v for e in column for v in e])\n",
    "    except (TypeError, ValueError):\n",
    "        return column"
   ]
  },
  {
   "cell_type": "code",
   "execution_count": 21,
   "metadata": {},
   "outputs": [
    {
     "data": {
      "text/html": [
       "<div>\n",
       "<table border=\"1\" class=\"dataframe\">\n",
       "  <thead>\n",
       "    <tr style=\"text-align: right;\">\n",
       "      <th></th>\n",
       "      <th>Jet_E</th>\n",
       "      <th>Jet_ID</th>\n",
       "      <th>Jet_Px</th>\n",
       "      <th>Jet_Py</th>\n",
       "      <th>Jet_Pz</th>\n",
       "      <th>Jet_btag</th>\n",
       "    </tr>\n",
       "  </thead>\n",
       "  <tbody>\n",
       "    <tr>\n",
       "      <th>0</th>\n",
       "      <td>109.210350</td>\n",
       "      <td>True</td>\n",
       "      <td>14.536326</td>\n",
       "      <td>81.217430</td>\n",
       "      <td>69.889328</td>\n",
       "      <td>2.046098</td>\n",
       "    </tr>\n",
       "    <tr>\n",
       "      <th>1</th>\n",
       "      <td>223.633972</td>\n",
       "      <td>True</td>\n",
       "      <td>-22.598843</td>\n",
       "      <td>-57.128605</td>\n",
       "      <td>214.739639</td>\n",
       "      <td>2.287386</td>\n",
       "    </tr>\n",
       "    <tr>\n",
       "      <th>2</th>\n",
       "      <td>114.650551</td>\n",
       "      <td>True</td>\n",
       "      <td>47.944618</td>\n",
       "      <td>-11.354554</td>\n",
       "      <td>103.364891</td>\n",
       "      <td>-1.000000</td>\n",
       "    </tr>\n",
       "    <tr>\n",
       "      <th>3</th>\n",
       "      <td>263.246735</td>\n",
       "      <td>True</td>\n",
       "      <td>28.441772</td>\n",
       "      <td>-77.406265</td>\n",
       "      <td>-249.800949</td>\n",
       "      <td>-1.000000</td>\n",
       "    </tr>\n",
       "    <tr>\n",
       "      <th>4</th>\n",
       "      <td>105.526070</td>\n",
       "      <td>True</td>\n",
       "      <td>-56.915596</td>\n",
       "      <td>27.354971</td>\n",
       "      <td>-83.384865</td>\n",
       "      <td>-1.000000</td>\n",
       "    </tr>\n",
       "  </tbody>\n",
       "</table>\n",
       "</div>"
      ],
      "text/plain": [
       "        Jet_E Jet_ID     Jet_Px     Jet_Py      Jet_Pz  Jet_btag\n",
       "0  109.210350   True  14.536326  81.217430   69.889328  2.046098\n",
       "1  223.633972   True -22.598843 -57.128605  214.739639  2.287386\n",
       "2  114.650551   True  47.944618 -11.354554  103.364891 -1.000000\n",
       "3  263.246735   True  28.441772 -77.406265 -249.800949 -1.000000\n",
       "4  105.526070   True -56.915596  27.354971  -83.384865 -1.000000"
      ]
     },
     "execution_count": 21,
     "metadata": {},
     "output_type": "execute_result"
    }
   ],
   "source": [
    "# -- ok, let's try it out!\n",
    "df_flat = pd.DataFrame({k: flatten(c) for k, c in jet_df.iteritems()})\n",
    "df_flat.head()"
   ]
  },
  {
   "cell_type": "markdown",
   "metadata": {},
   "source": [
    "### Plot your data using Matplotlib"
   ]
  },
  {
   "cell_type": "markdown",
   "metadata": {},
   "source": [
    "Using `pandas` in conjunction with `matplotlib`, you can also inspect your variables super quickly. Check out the following cells for a quick example."
   ]
  },
  {
   "cell_type": "code",
   "execution_count": 22,
   "metadata": {
    "collapsed": true
   },
   "outputs": [],
   "source": [
    "import matplotlib\n",
    "import matplotlib.pyplot as plt\n",
    "%matplotlib inline"
   ]
  },
  {
   "cell_type": "code",
   "execution_count": 23,
   "metadata": {
    "scrolled": false
   },
   "outputs": [
    {
     "data": {
      "image/png": "[encoded data removed]",
      "text/plain": [
       "<matplotlib.figure.Figure at 0x11bd1b390>"
      ]
     },
     "metadata": {},
     "output_type": "display_data"
    },
    {
     "data": {
      "image/png": "[encoded data removed]",
      "text/plain": [
       "<matplotlib.figure.Figure at 0x11be3e9d0>"
      ]
     },
     "metadata": {},
     "output_type": "display_data"
    },
    {
     "data": {
      "image/png": "[encoded data removed]",
      "text/plain": [
       "<matplotlib.figure.Figure at 0x11be88b90>"
      ]
     },
     "metadata": {},
     "output_type": "display_data"
    },
    {
     "data": {
      "image/png": "[encoded data removed]",
      "text/plain": [
       "<matplotlib.figure.Figure at 0x11bf67690>"
      ]
     },
     "metadata": {},
     "output_type": "display_data"
    },
    {
     "data": {
      "image/png": "[encoded data removed]",
      "text/plain": [
       "<matplotlib.figure.Figure at 0x11bfa9750>"
      ]
     },
     "metadata": {},
     "output_type": "display_data"
    },
    {
     "data": {
      "image/png": "[encoded data removed]",
      "text/plain": [
       "<matplotlib.figure.Figure at 0x11c048150>"
      ]
     },
     "metadata": {},
     "output_type": "display_data"
    }
   ],
   "source": [
    "# iterate through the columns\n",
    "for key in df_flat.keys():\n",
    "    # plotting settings\n",
    "    matplotlib.rcParams.update({'font.size': 16})\n",
    "    fig = plt.figure(figsize=(5, 5), dpi=100)\n",
    "    bins = np.linspace(min(df_flat[key]), max(df_flat[key]), 30)\n",
    "    # plot!\n",
    "    _ = plt.hist(df_flat[key], bins=bins, histtype='step', label=r'$t\\overline{t}$')\n",
    "    # decorate\n",
    "    plt.xlabel(key)\n",
    "    plt.ylabel('Number of Jets')\n",
    "    plt.legend()\n",
    "    plt.plot()"
   ]
  },
  {
   "cell_type": "markdown",
   "metadata": {},
   "source": [
    "It's really easy and intuitive to add new columns to a dataframe. You can also define them as functions of other columns. This is great if you need to build your own hand-crafted variables."
   ]
  },
  {
   "cell_type": "code",
   "execution_count": 24,
   "metadata": {
    "collapsed": true
   },
   "outputs": [],
   "source": [
    "df['Jet_P'] = (df['Jet_Px']**2 + df['Jet_Py']**2 + df['Jet_Pz']**2)**(0.5)"
   ]
  },
  {
   "cell_type": "code",
   "execution_count": 25,
   "metadata": {},
   "outputs": [
    {
     "data": {
      "text/html": [
       "<div>\n",
       "<table border=\"1\" class=\"dataframe\">\n",
       "  <thead>\n",
       "    <tr style=\"text-align: right;\">\n",
       "      <th></th>\n",
       "      <th>Jet_P</th>\n",
       "      <th>Jet_Px</th>\n",
       "      <th>Jet_Py</th>\n",
       "      <th>Jet_Pz</th>\n",
       "      <th>Jet_E</th>\n",
       "    </tr>\n",
       "  </thead>\n",
       "  <tbody>\n",
       "    <tr>\n",
       "      <th>0</th>\n",
       "      <td>[108.13, 223.355, 114.507]</td>\n",
       "      <td>[14.5363, -22.5988, 47.9446]</td>\n",
       "      <td>[81.2174, -57.1286, -11.3546]</td>\n",
       "      <td>[69.8893, 214.74, 103.365]</td>\n",
       "      <td>[109.21, 223.634, 114.651]</td>\n",
       "    </tr>\n",
       "    <tr>\n",
       "      <th>1</th>\n",
       "      <td>[263.061, 104.598, 72.5371, 70.4365, 50.0759, ...</td>\n",
       "      <td>[28.4418, -56.9156, 33.1661, -56.3586, 44.6846...</td>\n",
       "      <td>[-77.4063, 27.355, 53.6579, 26.6355, -14.1429,...</td>\n",
       "      <td>[-249.801, -83.3849, -35.8116, 32.7957, 17.631...</td>\n",
       "      <td>[263.247, 105.526, 72.9987, 71.0442, 51.121, 4...</td>\n",
       "    </tr>\n",
       "    <tr>\n",
       "      <th>2</th>\n",
       "      <td>[79.4521, 55.4131, 55.8585, 42.0104]</td>\n",
       "      <td>[-16.0014, -41.8073, 29.1941, 38.4706]</td>\n",
       "      <td>[-59.6659, 21.0932, -28.6743, 7.80847]</td>\n",
       "      <td>[-49.9657, -29.6283, 38.0217, -14.9639]</td>\n",
       "      <td>[79.9953, 56.0485, 56.2464, 42.5101]</td>\n",
       "    </tr>\n",
       "    <tr>\n",
       "      <th>3</th>\n",
       "      <td>[71.5054, 84.584]</td>\n",
       "      <td>[-40.8037, 37.5208]</td>\n",
       "      <td>[34.4222, -35.3076]</td>\n",
       "      <td>[-47.5731, -67.0822]</td>\n",
       "      <td>[72.2569, 85.3261]</td>\n",
       "    </tr>\n",
       "    <tr>\n",
       "      <th>4</th>\n",
       "      <td>[133.006, 100.772, 61.6009]</td>\n",
       "      <td>[-67.6013, 70.1426, 27.3418]</td>\n",
       "      <td>[83.3236, -71.9012, 50.1827]</td>\n",
       "      <td>[78.5999, -8.07146, 22.9956]</td>\n",
       "      <td>[135.263, 101.793, 62.2964]</td>\n",
       "    </tr>\n",
       "  </tbody>\n",
       "</table>\n",
       "</div>"
      ],
      "text/plain": [
       "                                               Jet_P  \\\n",
       "0                         [108.13, 223.355, 114.507]   \n",
       "1  [263.061, 104.598, 72.5371, 70.4365, 50.0759, ...   \n",
       "2               [79.4521, 55.4131, 55.8585, 42.0104]   \n",
       "3                                  [71.5054, 84.584]   \n",
       "4                        [133.006, 100.772, 61.6009]   \n",
       "\n",
       "                                              Jet_Px  \\\n",
       "0                       [14.5363, -22.5988, 47.9446]   \n",
       "1  [28.4418, -56.9156, 33.1661, -56.3586, 44.6846...   \n",
       "2             [-16.0014, -41.8073, 29.1941, 38.4706]   \n",
       "3                                [-40.8037, 37.5208]   \n",
       "4                       [-67.6013, 70.1426, 27.3418]   \n",
       "\n",
       "                                              Jet_Py  \\\n",
       "0                      [81.2174, -57.1286, -11.3546]   \n",
       "1  [-77.4063, 27.355, 53.6579, 26.6355, -14.1429,...   \n",
       "2             [-59.6659, 21.0932, -28.6743, 7.80847]   \n",
       "3                                [34.4222, -35.3076]   \n",
       "4                       [83.3236, -71.9012, 50.1827]   \n",
       "\n",
       "                                              Jet_Pz  \\\n",
       "0                         [69.8893, 214.74, 103.365]   \n",
       "1  [-249.801, -83.3849, -35.8116, 32.7957, 17.631...   \n",
       "2            [-49.9657, -29.6283, 38.0217, -14.9639]   \n",
       "3                               [-47.5731, -67.0822]   \n",
       "4                       [78.5999, -8.07146, 22.9956]   \n",
       "\n",
       "                                               Jet_E  \n",
       "0                         [109.21, 223.634, 114.651]  \n",
       "1  [263.247, 105.526, 72.9987, 71.0442, 51.121, 4...  \n",
       "2               [79.9953, 56.0485, 56.2464, 42.5101]  \n",
       "3                                 [72.2569, 85.3261]  \n",
       "4                        [135.263, 101.793, 62.2964]  "
      ]
     },
     "execution_count": 25,
     "metadata": {},
     "output_type": "execute_result"
    }
   ],
   "source": [
    "# -- again, you can easily slice dataframes by specifying the names of the branches you would like to select \n",
    "df[['Jet_P', 'Jet_Px', 'Jet_Py', 'Jet_Pz', 'Jet_E']].head()"
   ]
  },
  {
   "cell_type": "code",
   "execution_count": 26,
   "metadata": {
    "collapsed": true
   },
   "outputs": [],
   "source": [
    "# -- you can also build four vectors and store them in a new column in 1 line of code \n",
    "from rootpy.vector import LorentzVector\n",
    "df['Jet_4V'] = [map(lambda args: LorentzVector(*args), zip(px, py, pz, e)) for \n",
    "                (_, (px, py, pz, e)) in df[['Jet_Px', 'Jet_Py', 'Jet_Pz', 'Jet_E']].iterrows()]"
   ]
  },
  {
   "cell_type": "code",
   "execution_count": 27,
   "metadata": {},
   "outputs": [
    {
     "data": {
      "text/plain": [
       "[[LorentzVector(px=14.536326, py=81.217430, pz=69.889328, E=109.210350),\n",
       "  LorentzVector(px=-22.598843, py=-57.128605, pz=214.739639, E=223.633972),\n",
       "  LorentzVector(px=47.944618, py=-11.354554, pz=103.364891, E=114.650551)],\n",
       " [LorentzVector(px=28.441772, py=-77.406265, pz=-249.800949, E=263.246735),\n",
       "  LorentzVector(px=-56.915596, py=27.354971, pz=-83.384865, E=105.526070),\n",
       "  LorentzVector(px=33.166145, py=53.657883, pz=-35.811634, E=72.998718),\n",
       "  LorentzVector(px=-56.358620, py=26.635517, pz=32.795723, E=71.044151),\n",
       "  LorentzVector(px=44.684635, py=-14.142891, pz=17.631155, E=51.121010),\n",
       "  LorentzVector(px=-7.482028, py=-34.917023, pz=-16.437563, E=40.037487)],\n",
       " [LorentzVector(px=-16.001389, py=-59.665871, pz=-49.965702, E=79.995316),\n",
       "  LorentzVector(px=-41.807266, py=21.093220, pz=-29.628342, E=56.048538),\n",
       "  LorentzVector(px=29.194143, py=-28.674322, pz=38.021736, E=56.246387),\n",
       "  LorentzVector(px=38.470554, py=7.808471, pz=-14.963932, E=42.510105)],\n",
       " [LorentzVector(px=-40.803673, py=34.422157, pz=-47.573055, E=72.256897),\n",
       "  LorentzVector(px=37.520752, py=-35.307610, pz=-67.082169, E=85.326126)],\n",
       " [LorentzVector(px=-67.601349, py=83.323586, pz=78.599915, E=135.262543),\n",
       "  LorentzVector(px=70.142593, py=-71.901230, pz=-8.071459, E=101.792641),\n",
       "  LorentzVector(px=27.341812, py=50.182686, pz=22.995554, E=62.296364)]]"
      ]
     },
     "execution_count": 27,
     "metadata": {},
     "output_type": "execute_result"
    }
   ],
   "source": [
    "# -- look at the 4-vectors of the jets in the first 5 events\n",
    "[_ for _ in df['Jet_4V'].head()]"
   ]
  },
  {
   "cell_type": "code",
   "execution_count": 28,
   "metadata": {},
   "outputs": [
    {
     "data": {
      "text/plain": [
       "[15.323401924031147, 11.164929207443834, 5.730252080241989]"
      ]
     },
     "execution_count": 28,
     "metadata": {},
     "output_type": "execute_result"
    }
   ],
   "source": [
    "# -- calculate the mass (or any other property) of all the jets in the first event\n",
    "[jet.M() for jet in df['Jet_4V'][0]]"
   ]
  },
  {
   "cell_type": "markdown",
   "metadata": {
    "collapsed": true
   },
   "source": [
    "There is obviously lots you can do with your data once you turn it into a standard Python object and move away from `ROOT`-specific classes. You can now take advantage of state-of-the-art Data Science and Machine Learning libraries to transform your data, while still recovering the functionalities you're used to."
   ]
  },
  {
   "cell_type": "markdown",
   "metadata": {
    "collapsed": true
   },
   "source": [
    "You can now move on to the <a href=\"deeplearning_intro.ipynb\">second notebook</a>."
   ]
  },
  {
   "cell_type": "code",
   "execution_count": null,
   "metadata": {
    "collapsed": true
   },
   "outputs": [],
   "source": []
  }
 ],
 "metadata": {
  "kernelspec": {
   "display_name": "Python 2",
   "language": "python",
   "name": "python2"
  },
  "language_info": {
   "codemirror_mode": {
    "name": "ipython",
    "version": 2
   },
   "file_extension": ".py",
   "mimetype": "text/x-python",
   "name": "python",
   "nbconvert_exporter": "python",
   "pygments_lexer": "ipython2",
   "version": "2.7.14"
  },
  "latex_envs": {
   "bibliofile": "biblio.bib",
   "cite_by": "apalike",
   "current_citInitial": 1,
   "eqLabelWithNumbers": true,
   "eqNumInitial": 0
  }
 },
 "nbformat": 4,
 "nbformat_minor": 1
}
